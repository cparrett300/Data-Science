{
 "cells": [
  {
   "cell_type": "code",
   "execution_count": 30,
   "metadata": {},
   "outputs": [
    {
     "data": {
      "text/plain": [
       "<Figure size 432x288 with 0 Axes>"
      ]
     },
     "metadata": {},
     "output_type": "display_data"
    }
   ],
   "source": [
    "import numpy as np\n",
    "import pandas as pd\n",
    "import matplotlib.pyplot as plt\n",
    "plt.set_cmap('coolwarm')"
   ]
  },
  {
   "cell_type": "code",
   "execution_count": 44,
   "metadata": {},
   "outputs": [],
   "source": [
    "def SoftMax(z):\n",
    "    return np.exp(z) / np.sum(np.exp(z), axis = 1, keepdims=True)\n",
    "    \n",
    "    \n",
    "    "
   ]
  },
  {
   "cell_type": "code",
   "execution_count": 5,
   "metadata": {},
   "outputs": [
    {
     "name": "stdout",
     "output_type": "stream",
     "text": [
      "[8.62077702e-04 4.70678477e-02 6.36994050e-03 9.45382993e-01\n",
      " 3.17140663e-04]\n",
      "1.0\n"
     ]
    }
   ],
   "source": [
    "y = np.array([2, 6, 4, 9, 1])\n",
    "\n",
    "print(SoftMax(y))\n",
    "\n",
    "print(np.sum(SoftMax(y)))"
   ]
  },
  {
   "cell_type": "code",
   "execution_count": null,
   "metadata": {},
   "outputs": [],
   "source": [
    "## the probability of each classes will always sum to be 1 so print(np.sum(SoftMax(y))) gives 1"
   ]
  },
  {
   "cell_type": "code",
   "execution_count": null,
   "metadata": {},
   "outputs": [],
   "source": []
  },
  {
   "cell_type": "code",
   "execution_count": 41,
   "metadata": {},
   "outputs": [],
   "source": [
    "class MultipleLogisticRegression:\n",
    "    def __init__(self, shape_in, shape_out):\n",
    "        self.weights = np.random.rand(shape_in, shape_out)\n",
    "        self.bias    = np.random.randn(1, shape_out)\n",
    "        \n",
    "        \n",
    "    def Fit(self, x, y, learn_rate = 1, iterations = 1000 ):    \n",
    "        losses = []\n",
    "        for i in range(iterations):\n",
    "            #y_hat = x @ weights + bias\n",
    "            #p_hat = Sigmoid(y_hat)\n",
    "            p_hat = self.Predict(x)\n",
    "\n",
    "            loss  = -np.sum(y* np.log(p_hat + 1e-99))\n",
    "            losses.append(loss)\n",
    "\n",
    "\n",
    "            self.weights -= learn_rate* x.T @ (p_hat - y)  #p_hat = sigmoid(y) and @ is matrix multiply\n",
    "            self.bias    -= learn_rate* np.sum(p_hat - y, axis = 0)\n",
    "\n",
    "        plt.plot(losses)    \n",
    "    \n",
    "    def Predict(self, x):\n",
    "        y_hat = x @ self.weights + self.bias\n",
    "        p_hat = SoftMax(y_hat)\n",
    "        return p_hat\n",
    "        "
   ]
  },
  {
   "cell_type": "markdown",
   "metadata": {},
   "source": [
    "##  Run model"
   ]
  },
  {
   "cell_type": "code",
   "execution_count": 90,
   "metadata": {},
   "outputs": [],
   "source": [
    "n = 1000\n",
    "d = 2\n",
    "k = 3\n",
    "\n",
    "x_0 = np.random.randn(n, d) + ( 1, 7)\n",
    "x_1 = np.random.randn(n, d) + (-2, -2)\n",
    "x_2 = np.random.randn(n, d) + (8, 2 )\n",
    "\n",
    "\n",
    "x = np.vstack([x_0, x_1, x_2])\n",
    "\n",
    "y_0 = np.zeros((n,1))\n",
    "y_1 = np.ones((n,1))\n",
    "y_2 = np.ones((n,1))*2\n",
    "\n",
    "y = np.hstack([y_0, y_1, y_2])\n",
    "y_list=[]\n",
    "for i in range(k):\n",
    "    y_list.append(y==i)\n",
    "\n",
    "y=np.vstack(y_list)    \n",
    "    \n",
    "\n",
    "#plt.scatter(x[:,0], x[:,1], c=y)\n",
    "\n",
    "#plt.scatter(x[:,0], x[:,1], c=y.flatten())\n",
    "\n"
   ]
  },
  {
   "cell_type": "code",
   "execution_count": 92,
   "metadata": {},
   "outputs": [
    {
     "data": {
      "text/plain": [
       "array([[0.60630659, 8.57709719],\n",
       "       [1.57209459, 6.23862518],\n",
       "       [3.05925667, 7.52646344],\n",
       "       ...,\n",
       "       [6.79451586, 1.31406137],\n",
       "       [8.15375138, 2.72147012],\n",
       "       [7.86841217, 2.73650371]])"
      ]
     },
     "execution_count": 92,
     "metadata": {},
     "output_type": "execute_result"
    }
   ],
   "source": [
    "x"
   ]
  },
  {
   "cell_type": "code",
   "execution_count": 91,
   "metadata": {},
   "outputs": [
    {
     "data": {
      "text/plain": [
       "array([[ True, False, False],\n",
       "       [ True, False, False],\n",
       "       [ True, False, False],\n",
       "       ...,\n",
       "       [False, False,  True],\n",
       "       [False, False,  True],\n",
       "       [False, False,  True]])"
      ]
     },
     "execution_count": 91,
     "metadata": {},
     "output_type": "execute_result"
    }
   ],
   "source": [
    "y"
   ]
  },
  {
   "cell_type": "code",
   "execution_count": 32,
   "metadata": {},
   "outputs": [
    {
     "data": {
      "text/plain": [
       "array([[1.23353201e-07],\n",
       "       [1.23353201e-07],\n",
       "       [1.23353201e-07],\n",
       "       ...,\n",
       "       [9.99541338e-04],\n",
       "       [9.99541338e-04],\n",
       "       [9.99541338e-04]])"
      ]
     },
     "execution_count": 32,
     "metadata": {},
     "output_type": "execute_result"
    }
   ],
   "source": [
    "SoftMax(y)"
   ]
  },
  {
   "cell_type": "code",
   "execution_count": 97,
   "metadata": {},
   "outputs": [
    {
     "data": {
      "image/png": "[encoded data removed]",
      "text/plain": [
       "<Figure size 432x288 with 1 Axes>"
      ]
     },
     "metadata": {
      "needs_background": "light"
     },
     "output_type": "display_data"
    }
   ],
   "source": [
    "model = MultipleLogisticRegression(d,k)\n",
    "model.Fit(x, y, learn_rate = 1e-3)"
   ]
  },
  {
   "cell_type": "code",
   "execution_count": 98,
   "metadata": {},
   "outputs": [
    {
     "data": {
      "text/plain": [
       "<matplotlib.collections.PathCollection at 0x128bd94c488>"
      ]
     },
     "execution_count": 98,
     "metadata": {},
     "output_type": "execute_result"
    },
    {
     "data": {
      "image/png": "[encoded data removed]",
      "text/plain": [
       "<Figure size 432x288 with 1 Axes>"
      ]
     },
     "metadata": {
      "needs_background": "light"
     },
     "output_type": "display_data"
    }
   ],
   "source": [
    "p_hat = model.Predict(x)\n",
    "p_hat\n",
    "plt.show()\n",
    "plt.scatter(x[:,0], x[:,1], c=np.argmax(p_hat, axis = 1), cmap = 'jet')"
   ]
  },
  {
   "cell_type": "code",
   "execution_count": 95,
   "metadata": {},
   "outputs": [
    {
     "data": {
      "text/plain": [
       "array([[9.99818935e-01, 5.16137417e-12, 1.81065055e-04],\n",
       "       [9.93670296e-01, 9.94732997e-10, 6.32970263e-03],\n",
       "       [9.91342530e-01, 3.70079052e-12, 8.65747015e-03],\n",
       "       ...,\n",
       "       [2.38476721e-03, 2.23836275e-09, 9.97615231e-01],\n",
       "       [2.28025522e-03, 6.76960138e-12, 9.97719745e-01],\n",
       "       [3.19296495e-03, 1.32928937e-11, 9.96807035e-01]])"
      ]
     },
     "execution_count": 95,
     "metadata": {},
     "output_type": "execute_result"
    }
   ],
   "source": [
    "p_hat"
   ]
  },
  {
   "cell_type": "code",
   "execution_count": null,
   "metadata": {},
   "outputs": [],
   "source": []
  },
  {
   "cell_type": "code",
   "execution_count": null,
   "metadata": {},
   "outputs": [],
   "source": []
  },
  {
   "cell_type": "code",
   "execution_count": null,
   "metadata": {},
   "outputs": [],
   "source": []
  },
  {
   "cell_type": "code",
   "execution_count": null,
   "metadata": {},
   "outputs": [],
   "source": []
  },
  {
   "cell_type": "code",
   "execution_count": null,
   "metadata": {},
   "outputs": [],
   "source": []
  },
  {
   "cell_type": "code",
   "execution_count": null,
   "metadata": {},
   "outputs": [],
   "source": []
  },
  {
   "cell_type": "code",
   "execution_count": null,
   "metadata": {},
   "outputs": [],
   "source": []
  },
  {
   "cell_type": "code",
   "execution_count": null,
   "metadata": {},
   "outputs": [],
   "source": []
  },
  {
   "cell_type": "code",
   "execution_count": null,
   "metadata": {},
   "outputs": [],
   "source": []
  },
  {
   "cell_type": "markdown",
   "metadata": {},
   "source": [
    "## Example X and Y to work with\n"
   ]
  },
  {
   "cell_type": "code",
   "execution_count": 71,
   "metadata": {},
   "outputs": [],
   "source": [
    "n =1000\n",
    "cats = 3\n",
    "dims = 2\n",
    "\n",
    "x = []\n",
    "y = []\n",
    "\n",
    "for i in range(cats):\n",
    "    x.append(np.random.randn(n, dims) + np.random.randn(dims)*5)\n",
    "    y.append(np.array([np.arange(cats)] * n) ==i)\n",
    "\n",
    "x = np.vstack(x)   \n",
    "y = np.vstack(y)   \n",
    "    "
   ]
  },
  {
   "cell_type": "code",
   "execution_count": 60,
   "metadata": {},
   "outputs": [
    {
     "data": {
      "text/plain": [
       "<matplotlib.collections.PathCollection at 0x128bd54e848>"
      ]
     },
     "execution_count": 60,
     "metadata": {},
     "output_type": "execute_result"
    },
    {
     "data": {
      "image/png": "[encoded data removed]",
      "text/plain": [
       "<Figure size 432x288 with 1 Axes>"
      ]
     },
     "metadata": {
      "needs_background": "light"
     },
     "output_type": "display_data"
    }
   ],
   "source": [
    "plt.scatter(x[:,0], x[:,1], c=np.argmax(y, axis =1), cmap ='jet' )\n"
   ]
  },
  {
   "cell_type": "code",
   "execution_count": null,
   "metadata": {},
   "outputs": [],
   "source": []
  }
 ],
 "metadata": {
  "kernelspec": {
   "display_name": "Python 3",
   "language": "python",
   "name": "python3"
  },
  "language_info": {
   "codemirror_mode": {
    "name": "ipython",
    "version": 3
   },
   "file_extension": ".py",
   "mimetype": "text/x-python",
   "name": "python",
   "nbconvert_exporter": "python",
   "pygments_lexer": "ipython3",
   "version": "3.7.4"
  }
 },
 "nbformat": 4,
 "nbformat_minor": 2
}
