{
 "cells": [
  {
   "cell_type": "code",
   "execution_count": 3,
   "metadata": {},
   "outputs": [],
   "source": [
    "import numpy as np\n",
    "import matplotlib.pyplot as plt\n",
    "import torch\n",
    "import pandas as pd"
   ]
  },
  {
   "cell_type": "code",
   "execution_count": 4,
   "metadata": {},
   "outputs": [],
   "source": [
    "class Layer(torch.nn.Module):\n",
    "    def __init__(self, size_in, size_out, activation_func=torch.sigmoid):\n",
    "        super(Layer, self).__init__()\n",
    "        self.w = torch.nn.Parameter(torch.randn(size_in, size_out, requires_grad=True))\n",
    "        self.b = torch.nn.Parameter(torch.randn(1, size_out, requires_grad=True))\n",
    "        self.activation_func = activation_func\n",
    "        \n",
    "    def forward(self, x):\n",
    "        return self.activation_func(x @ self.w + self.b)\n",
    "        \n",
    "    \n",
    "    def predict(self, x):\n",
    "        # do predict with the data without the dropout\n",
    "        return self.activation_func(x @ self.w + self.b)"
   ]
  },
  {
   "cell_type": "code",
   "execution_count": 136,
   "metadata": {},
   "outputs": [],
   "source": [
    "class LSTM(torch.nn.Module):\n",
    "    def __init__(self, size_in, size_out, size_short, size_long):\n",
    "        super(LSTM,self).__init__()\n",
    "        self.layer_0 = Layer(size_in + size_short, size_long)\n",
    "        self.layer_1 = Layer(size_in + size_short, size_long)\n",
    "        self.layer_2 = Layer(size_in + size_short, size_long, activation_func = torch.tanh)\n",
    "        self.layer_3 = Layer(size_in + size_short, size_short)\n",
    "        self.layer_4 = Layer(size_long, size_short, activation_func = torch.tanh)\n",
    "        self.layer_out = Layer(size_short, size_out, lambda x: x)\n",
    "        self.size_short = size_short\n",
    "        self.size_long = size_long\n",
    "        \n",
    "    def forward(self, x):\n",
    "        short_mem = torch.zeros(1, self.size_short)\n",
    "        long_mem = torch.zeros(1, self.size_long)\n",
    "        out = []\n",
    "        for i in range(x.shape[0]):\n",
    "            z = torch.cat([x[[i],:], short_mem], dim=1)\n",
    "            long_mem = self.layer_0.forward(z) * long_mem + self.layer_1.forward(z) * self.layer_2.forward(z)\n",
    "            short_mem = self.layer_3.forward(z) * self.layer_4.forward(long_mem)\n",
    "            out.append(self.layer_out.forward(short_mem))\n",
    "        out = torch.cat(out, dim=0)\n",
    "        return out\n",
    "    \n",
    "    def generate(self, start, iteration):\n",
    "        short_mem = torch.randn(1, self.size_short)\n",
    "        long_mem = torch.randn(1, self.size_long)\n",
    "        out = [start]\n",
    "        for i in range(iteration):\n",
    "            z = torch.cat([out[i], short_mem], dim=1)\n",
    "            long_mem = self.layer_0.forward(z) * long_mem + self.layer_1.forward(z) * self.layer_2.forward(z)\n",
    "            short_mem = self.layer_3.forward(z) * self.layer_4.forward(long_mem)\n",
    "            out.append(self.layer_out.forward(short_mem))\n",
    "            if Decode(out[-1]) == '|' or len(Decode(out[-1])) > 30:\n",
    "                break\n",
    "            \n",
    "        out = torch.cat(out, dim=0)\n",
    "        return out\n",
    "    "
   ]
  },
  {
   "cell_type": "code",
   "execution_count": 137,
   "metadata": {},
   "outputs": [],
   "source": [
    "df = pd.read_csv('dinosaurs.csv', header=None)\n",
    "df.columns = ['name']"
   ]
  },
  {
   "cell_type": "code",
   "execution_count": 138,
   "metadata": {},
   "outputs": [],
   "source": [
    "a = ord('a')\n",
    "\n",
    "def Encode(name):\n",
    "    name = ''.join(['{', name.lower(), '|'])\n",
    "    out = []\n",
    "    for char in name:\n",
    "        char_encoded = torch.zeros((1, 28))\n",
    "        char_encoded[0, ord(char)-a] = 1\n",
    "        out.append(char_encoded)\n",
    "    return torch.cat(out, dim = 0)\n",
    "\n",
    "def Decode(tensor):\n",
    "    ords = torch.argmax(tensor, dim=1)\n",
    "    out = []\n",
    "    for i in ords:\n",
    "        out.append(chr(i + a))\n",
    "    return ''.join(out)"
   ]
  },
  {
   "cell_type": "code",
   "execution_count": 139,
   "metadata": {},
   "outputs": [],
   "source": [
    "df_encoded = df.name.apply(Encode)"
   ]
  },
  {
   "cell_type": "code",
   "execution_count": 140,
   "metadata": {},
   "outputs": [],
   "source": [
    "model = LSTM(28, 28, 14, 14)\n",
    "opt = torch.optim.Adam(model.parameters(), lr=1e-2)\n",
    "loss_func = torch.nn.CrossEntropyLoss()\n",
    "losses = []"
   ]
  },
  {
   "cell_type": "code",
   "execution_count": 143,
   "metadata": {},
   "outputs": [
    {
     "name": "stdout",
     "output_type": "stream",
     "text": [
      " Iteration: 9999 | loss is 1.3258016109466553"
     ]
    },
    {
     "data": {
      "text/plain": [
       "[<matplotlib.lines.Line2D at 0x1264a2400>]"
      ]
     },
     "execution_count": 143,
     "metadata": {},
     "output_type": "execute_result"
    },
    {
     "data": {
      "image/png": "[encoded data removed]",
      "text/plain": [
       "<Figure size 432x288 with 1 Axes>"
      ]
     },
     "metadata": {
      "needs_background": "light"
     },
     "output_type": "display_data"
    }
   ],
   "source": [
    "iterations = 10000\n",
    "\n",
    "for i in range(iterations):\n",
    "    y = df_encoded.sample().values[0]\n",
    "    y_hat = model.forward(y)\n",
    "    loss = loss_func(y_hat[:-1], torch.argmax(y[1:], dim = 1))\n",
    "    loss.backward()\n",
    "    opt.step()\n",
    "    opt.zero_grad()\n",
    "    losses.append(loss.detach())\n",
    "    print('\\r Iteration: {} | loss is {}'.format(i, loss.detach()), end='')\n",
    "plt.plot(losses)\n"
   ]
  },
  {
   "cell_type": "code",
   "execution_count": 151,
   "metadata": {},
   "outputs": [
    {
     "data": {
      "text/plain": [
       "'{urrxpinppinpnuurojuuuuuuuuuuuuuuuuuuuuuuuuuuuuuuuuuuuuuuuuuuuuuuuuuuuuuuuuurpusonpnj{|'"
      ]
     },
     "execution_count": 151,
     "metadata": {},
     "output_type": "execute_result"
    }
   ],
   "source": [
    "Decode(model.generate(Encode('')[[0], :], 100))"
   ]
  },
  {
   "cell_type": "code",
   "execution_count": null,
   "metadata": {},
   "outputs": [],
   "source": []
  }
 ],
 "metadata": {
  "kernelspec": {
   "display_name": "Python 3",
   "language": "python",
   "name": "python3"
  },
  "language_info": {
   "codemirror_mode": {
    "name": "ipython",
    "version": 3
   },
   "file_extension": ".py",
   "mimetype": "text/x-python",
   "name": "python",
   "nbconvert_exporter": "python",
   "pygments_lexer": "ipython3",
   "version": "3.7.4"
  }
 },
 "nbformat": 4,
 "nbformat_minor": 4
}
