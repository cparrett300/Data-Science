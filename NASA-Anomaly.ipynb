{
  "nbformat": 4,
  "nbformat_minor": 0,
  "metadata": {
    "accelerator": "GPU",
    "colab": {
      "name": "nasa_2.ipynb",
      "provenance": [],
      "collapsed_sections": [],
      "toc_visible": true
    },
    "kernelspec": {
      "display_name": "Python 3",
      "language": "python",
      "name": "python3"
    },
    "language_info": {
      "codemirror_mode": {
        "name": "ipython",
        "version": 3
      },
      "file_extension": ".py",
      "mimetype": "text/x-python",
      "name": "python",
      "nbconvert_exporter": "python",
      "pygments_lexer": "ipython3",
      "version": "3.7.4"
    }
  },
  "cells": [
    {
      "cell_type": "markdown",
      "metadata": {
        "colab_type": "text",
        "id": "AdYa_8JvUMpb"
      },
      "source": [
        "## Unsupervised Anomaly Detection With NASA Shuttles\n",
        "\n",
        "Inside `shuttle.csv` there is data collected from NASA shuttles. The first nine columns are various readings from the shuttle, while the last column shows whether the data point is an anomaly or not. Because we are using unsupervised methods the last column will only be used to judge performance. \n",
        "\n",
        "Your task is threefold:\n",
        "\n",
        "1. Determine the proper number of clusters in the data using techniques discussed in class.\n",
        "2. Fit a clustering method to the data and determine the proper threshold for anomaly detection.\n",
        "3. Classify your data and report the relevant performance metric.\n",
        "\n",
        "Put together a quick 5 minute technical presentation (Target audience: Fellow Data Scientists) explaining your methods, decisions, and results."
      ]
    },
    {
      "cell_type": "code",
      "metadata": {
        "colab_type": "code",
        "id": "hY1kYt0FUMpk",
        "colab": {}
      },
      "source": [
        ""
      ],
      "execution_count": 0,
      "outputs": []
    },
    {
      "cell_type": "code",
      "metadata": {
        "colab_type": "code",
        "id": "DL1DqVkBUSUs",
        "colab": {}
      },
      "source": [
        "# from google.colab import drive\n",
        "# drive.mount('/content/drive')"
      ],
      "execution_count": 0,
      "outputs": []
    },
    {
      "cell_type": "code",
      "metadata": {
        "colab_type": "code",
        "id": "qv0q0RrYU7D0",
        "colab": {}
      },
      "source": [
        ""
      ],
      "execution_count": 0,
      "outputs": []
    },
    {
      "cell_type": "code",
      "metadata": {
        "colab_type": "code",
        "id": "Zgo5SdcsU62M",
        "colab": {}
      },
      "source": [
        "import numpy as np\n",
        "import pandas as pd\n",
        "import matplotlib.pyplot as plt\n",
        "from scipy.stats import multivariate_normal as mvn\n",
        "import sklearn.metrics.pairwise\n",
        "import scipy.spatial.distance\n",
        "from sklearn.model_selection import train_test_split\n",
        "\n"
      ],
      "execution_count": 0,
      "outputs": []
    },
    {
      "cell_type": "code",
      "metadata": {
        "colab_type": "code",
        "id": "ZEuam0s0U6rO",
        "colab": {}
      },
      "source": [
        "data = pd.read_csv('Ashish Piya - shuttle.csv',header=0 )#,dtype=np.float32)\n",
        "\n"
      ],
      "execution_count": 0,
      "outputs": []
    },
    {
      "cell_type": "code",
      "metadata": {
        "colab_type": "code",
        "id": "g5I6McRVU6Wc",
        "outputId": "0e7a460e-21dd-4cf6-f10e-27dfd2e4b08d",
        "colab": {
          "base_uri": "https://localhost:8080/",
          "height": 204
        }
      },
      "source": [
        "\n",
        "data.head(5)"
      ],
      "execution_count": 54,
      "outputs": [
        {
          "output_type": "execute_result",
          "data": {
            "text/html": [
              "<div>\n",
              "<style scoped>\n",
              "    .dataframe tbody tr th:only-of-type {\n",
              "        vertical-align: middle;\n",
              "    }\n",
              "\n",
              "    .dataframe tbody tr th {\n",
              "        vertical-align: top;\n",
              "    }\n",
              "\n",
              "    .dataframe thead th {\n",
              "        text-align: right;\n",
              "    }\n",
              "</style>\n",
              "<table border=\"1\" class=\"dataframe\">\n",
              "  <thead>\n",
              "    <tr style=\"text-align: right;\">\n",
              "      <th></th>\n",
              "      <th>x_0</th>\n",
              "      <th>x_1</th>\n",
              "      <th>x_2</th>\n",
              "      <th>x_3</th>\n",
              "      <th>x_4</th>\n",
              "      <th>x_5</th>\n",
              "      <th>x_6</th>\n",
              "      <th>x_7</th>\n",
              "      <th>x_8</th>\n",
              "      <th>y</th>\n",
              "    </tr>\n",
              "  </thead>\n",
              "  <tbody>\n",
              "    <tr>\n",
              "      <th>0</th>\n",
              "      <td>50</td>\n",
              "      <td>21</td>\n",
              "      <td>77</td>\n",
              "      <td>0</td>\n",
              "      <td>28</td>\n",
              "      <td>0</td>\n",
              "      <td>27</td>\n",
              "      <td>48</td>\n",
              "      <td>22</td>\n",
              "      <td>1</td>\n",
              "    </tr>\n",
              "    <tr>\n",
              "      <th>1</th>\n",
              "      <td>53</td>\n",
              "      <td>0</td>\n",
              "      <td>82</td>\n",
              "      <td>0</td>\n",
              "      <td>52</td>\n",
              "      <td>-5</td>\n",
              "      <td>29</td>\n",
              "      <td>30</td>\n",
              "      <td>2</td>\n",
              "      <td>0</td>\n",
              "    </tr>\n",
              "    <tr>\n",
              "      <th>2</th>\n",
              "      <td>37</td>\n",
              "      <td>0</td>\n",
              "      <td>76</td>\n",
              "      <td>0</td>\n",
              "      <td>28</td>\n",
              "      <td>18</td>\n",
              "      <td>40</td>\n",
              "      <td>48</td>\n",
              "      <td>8</td>\n",
              "      <td>0</td>\n",
              "    </tr>\n",
              "    <tr>\n",
              "      <th>3</th>\n",
              "      <td>37</td>\n",
              "      <td>0</td>\n",
              "      <td>79</td>\n",
              "      <td>0</td>\n",
              "      <td>34</td>\n",
              "      <td>-26</td>\n",
              "      <td>43</td>\n",
              "      <td>46</td>\n",
              "      <td>2</td>\n",
              "      <td>0</td>\n",
              "    </tr>\n",
              "    <tr>\n",
              "      <th>4</th>\n",
              "      <td>85</td>\n",
              "      <td>0</td>\n",
              "      <td>88</td>\n",
              "      <td>-4</td>\n",
              "      <td>6</td>\n",
              "      <td>1</td>\n",
              "      <td>3</td>\n",
              "      <td>83</td>\n",
              "      <td>80</td>\n",
              "      <td>1</td>\n",
              "    </tr>\n",
              "  </tbody>\n",
              "</table>\n",
              "</div>"
            ],
            "text/plain": [
              "   x_0  x_1  x_2  x_3  x_4  x_5  x_6  x_7  x_8  y\n",
              "0   50   21   77    0   28    0   27   48   22  1\n",
              "1   53    0   82    0   52   -5   29   30    2  0\n",
              "2   37    0   76    0   28   18   40   48    8  0\n",
              "3   37    0   79    0   34  -26   43   46    2  0\n",
              "4   85    0   88   -4    6    1    3   83   80  1"
            ]
          },
          "metadata": {
            "tags": []
          },
          "execution_count": 54
        }
      ]
    },
    {
      "cell_type": "code",
      "metadata": {
        "colab_type": "code",
        "id": "JDzHTbxRU6S6",
        "outputId": "fcaec510-0413-4f1d-d0f2-643badc8db64",
        "colab": {
          "base_uri": "https://localhost:8080/",
          "height": 68
        }
      },
      "source": [
        "data = data.to_numpy()\n",
        "data = data.astype('float32')\n",
        "print(data.dtype)\n",
        "\n",
        "\n",
        "y = data[:,-1]\n",
        "x = data[:,:-1]\n",
        "\n",
        "print(x.shape)\n",
        "print(y.shape)"
      ],
      "execution_count": 55,
      "outputs": [
        {
          "output_type": "stream",
          "text": [
            "float32\n",
            "(49097, 9)\n",
            "(49097,)\n"
          ],
          "name": "stdout"
        }
      ]
    },
    {
      "cell_type": "code",
      "metadata": {
        "id": "MqXHUIzRtv91",
        "colab_type": "code",
        "colab": {}
      },
      "source": [
        "x_train, x_test, y_train, y_test = train_test_split(x, y, test_size=0.20, random_state=42)"
      ],
      "execution_count": 0,
      "outputs": []
    },
    {
      "cell_type": "code",
      "metadata": {
        "id": "WbO8GPjSX34s",
        "colab_type": "code",
        "colab": {}
      },
      "source": [
        "x = x_train\n",
        "y = y_train"
      ],
      "execution_count": 0,
      "outputs": []
    },
    {
      "cell_type": "code",
      "metadata": {
        "id": "-1EsnEgGtv98",
        "colab_type": "code",
        "outputId": "bb3a42f0-6746-4a94-e89b-64eb9e73e34c",
        "colab": {
          "base_uri": "https://localhost:8080/",
          "height": 282
        }
      },
      "source": [
        "def PCA(x, dims):\n",
        "    #this makes it symmetric\n",
        "    x_sym = x.T @ x\n",
        "    eigen_values,  eigen_vectors = np.linalg.eig(x_sym)\n",
        "    x_transformed = x @ eigen_vectors[:, np.argsort(eigen_values)[-dims:]]  #np.argsort(eigen_values) sorts the eigen values and [-dims:] gives it from larfgest to smallest\n",
        "    return x_transformed\n",
        "\n",
        "x_transformed = PCA(x, 2)  #dims = 2    # here we have reduced the dimensionality of value from 9 to 2 by PCA\n",
        "plt.scatter(x_transformed[:,0], x_transformed[:,1])\n"
      ],
      "execution_count": 59,
      "outputs": [
        {
          "output_type": "execute_result",
          "data": {
            "text/plain": [
              "<matplotlib.collections.PathCollection at 0x7f3c623a38d0>"
            ]
          },
          "metadata": {
            "tags": []
          },
          "execution_count": 59
        },
        {
          "output_type": "display_data",
          "data": {
            "image/png": "[encoded data removed]",
            "text/plain": [
              "<Figure size 432x288 with 1 Axes>"
            ]
          },
          "metadata": {
            "tags": []
          }
        }
      ]
    },
    {
      "cell_type": "code",
      "metadata": {
        "id": "rCERxUcxtv-D",
        "colab_type": "code",
        "colab": {}
      },
      "source": [
        ""
      ],
      "execution_count": 0,
      "outputs": []
    },
    {
      "cell_type": "code",
      "metadata": {
        "id": "PZyXjtkitv-K",
        "colab_type": "code",
        "colab": {}
      },
      "source": [
        "def var(x):\n",
        "    return np.sum((x - np.mean(x, axis = 0)) ** 2 ) / x.shape[0]\n",
        "\n",
        "def DistAll(x):\n",
        "    dists = np.zeros([len(x), len(x)], dtype = 'float32')\n",
        "    for i in range(len(x)):\n",
        "        dists[:,i] = np.sum((x - x[i]) ** 2, axis = 1)\n",
        "    return dists    \n",
        "\n",
        "def Responsibility(x, centroid, beta):\n",
        "    diff = x - centroid\n",
        "    dist = np.sum(diff ** 2, axis=1)\n",
        "    return np.exp(-beta * dist) / np.sum(np.exp(-beta * dist))\n",
        "\n",
        "def Dist(x, centroid):\n",
        "    diff = x - centroid\n",
        "    return np.sum(diff ** 2, axis=1)\n",
        "\n",
        "\n",
        "class Clustering:\n",
        "    def DBI(self, x):\n",
        "        y_hat = self.Predict(x)\n",
        "        k = self.k\n",
        "        variances = []\n",
        "        for i in range(k):\n",
        "             variances.append(var(x[y_hat == i]))\n",
        "        variances = np.hstack(variances)\n",
        "        out = 0\n",
        "        for i in range(k):\n",
        "            out += np.max((np.delete(variances, i, axis=0) + variances[i]) / \n",
        "                   np.sum((np.delete(self.centroids, i, axis=0) - self.centroids[i]) ** 2, axis=1))\n",
        "\n",
        "        return out / k\n",
        "    \n",
        "    def CHI(self, x):\n",
        "        y_hat = self.Predict(x)\n",
        "        n = len(y_hat)\n",
        "        denom = 0\n",
        "        num = 0\n",
        "        for k in range(self.k):\n",
        "            n_k = np.sum(y_hat == k)\n",
        "            m_k = self.centroids[k]\n",
        "            m = np.mean(x, axis = 0)\n",
        "            denom += np.sum((x[y_hat == k] - m_k) ** 2)\n",
        "            num += n_k * np.sum((m_k - m) ** 2)\n",
        "        return (num / denom) * (n - self.k) / (self.k - 1)\n",
        "                \n",
        "    \n",
        "    def Silhouette(self, x):\n",
        "        y_hat = self.Predict(x)\n",
        "        b = np.zeros(y_hat.shape)\n",
        "        a = np.zeros(y_hat.shape)\n",
        "        \n",
        "        for k in range(self.k):\n",
        "            cluster = y_hat == k\n",
        "            \n",
        "            dist = DistAll(x[cluster])\n",
        "            \n",
        "            b[cluster] = np.mean(dist, axis=1)\n",
        "            \n",
        "            for j in range(self.k):\n",
        "                if j != k:\n",
        "                    a[cluster] += np.sum((x[cluster] - self.centroids[j]) ** 2, axis = 1)\n",
        "        \n",
        "        a /= self.k-1\n",
        "        \n",
        "        return (a-b) / np.max(np.vstack([b, a]), axis=0)\n",
        "    \n",
        "    def SilhouettePlot(self, x):\n",
        "        y_hat = self.Predict(x)\n",
        "        sil = self.Silhouette(x)\n",
        "        sil_out = []\n",
        "        y_hat_out = []\n",
        "        for i in range(self.k):\n",
        "            sil_cluster = sil[y_hat == i]\n",
        "            y_hat_cluster = y_hat[y_hat == i]\n",
        "\n",
        "            ind = np.argsort(sil_cluster)[::-1]\n",
        "\n",
        "            sil_out.append(sil_cluster[ind])\n",
        "            y_hat_out.append(y_hat_cluster[ind])\n",
        "\n",
        "        sil_out = np.hstack(sil_out)\n",
        "        y_hat_out = np.hstack(y_hat_out)\n",
        "        plt.scatter(np.arange(sil_out.shape[0]), sil_out, c = y_hat_out, cmap='jet')\n",
        "        plt.title('k = {}'.format(self.k))\n",
        "        plt.show()\n",
        "\n",
        "\n",
        "def var(x):\n",
        "    return np.sum((x - np.mean(x, axis = 0)) ** 2 ) / x.shape[0]\n",
        "\n",
        "class SoftKMeans(Clustering):\n",
        "    def __init__(self, k, beta):\n",
        "        self.k = k\n",
        "        self.beta = beta\n",
        "        \n",
        "    def Fit(self, x, iterations = 10):\n",
        "        # Step 1\n",
        "        self.centroids = x[np.random.choice(np.arange(x.shape[0]), size=self.k)]\n",
        "        for i in range(iterations):\n",
        "            print('\\rIterations: {} '.format(i), end='')\n",
        "            # Step 2\n",
        "            diffs = np.stack([x] * self.k) - self.centroids.reshape(self.k, 1, x.shape[1])\n",
        "            dist = np.sum(diffs ** 2, axis = 2)\n",
        "            resp = np.exp(-self.beta * dist) / np.sum(np.exp(-self.beta * dist), axis = 1, keepdims=True)\n",
        "            # Step 3\n",
        "            y_hat = np.argmax(resp, axis = 0)\n",
        "            # Step 4\n",
        "            old_centroids = self.centroids.copy()\n",
        "            for i in range(self.k):\n",
        "                resp_i = resp[i, y_hat==i].reshape(-1, 1)\n",
        "                self.centroids[i, :] = np.sum(x[y_hat==i] * resp_i, axis=0) / (np.sum(resp_i) + 1e-99)\n",
        "#             print(np.sum((old_centroids - self.centroids) ** 2))\n",
        "            if (np.sum((old_centroids - self.centroids) ** 2)) < 1e-15:\n",
        "                break\n",
        "            \n",
        "        return self.centroids\n",
        "    \n",
        "    def Predict(self, x):\n",
        "        # Step 2\n",
        "        diffs = np.stack([x] * self.k) - self.centroids.reshape(self.k, 1, x.shape[1])\n",
        "        dist = np.sum(diffs ** 2, axis = 2)\n",
        "        resp = np.exp(-self.beta * dist) / np.sum(np.exp(-self.beta * dist), axis = 1, keepdims=True)\n",
        "        # Step 3\n",
        "        y_hat = np.argmax(resp, axis = 0)\n",
        "        \n",
        "        return y_hat\n",
        "    \n",
        "class KMeans(Clustering):\n",
        "    def __init__(self, k):\n",
        "        self.k = k\n",
        "        \n",
        "    def Fit(self, x, iterations = 10):\n",
        "        # Step 1\n",
        "        self.centroids = x[np.random.choice(np.arange(x.shape[0]), size=self.k)]\n",
        "        for i in range(iterations):\n",
        "            print('\\rIterations: {}'.format(i), end='')\n",
        "            # Step 2\n",
        "            diffs = np.stack([x] * self.k) - self.centroids.reshape(self.k, 1, x.shape[1])\n",
        "            dist = np.sum(diffs ** 2, axis = 2)\n",
        "            # Step 3\n",
        "            y_hat = np.argmin(dist, axis = 0)\n",
        "            # Step 4\n",
        "            old_centroids = self.centroids.copy()\n",
        "            for i in range(self.k):\n",
        "                self.centroids[i, :] = np.mean(x[y_hat==i], axis=0)\n",
        "            if (np.sum((old_centroids - self.centroids) ** 2)) < 1e-15:\n",
        "                break\n",
        "            \n",
        "        return self.centroids\n",
        "    \n",
        "    def Predict(self, x):\n",
        "        diffs = np.stack([x] * self.k) - self.centroids.reshape(self.k, 1, x.shape[1])\n",
        "        dist = np.sum(diffs ** 2, axis = 2)\n",
        "        # Step 3\n",
        "        y_hat = np.argmin(dist, axis = 0)\n",
        "        \n",
        "        return y_hat  "
      ],
      "execution_count": 0,
      "outputs": []
    },
    {
      "cell_type": "code",
      "metadata": {
        "id": "x6PGuZwKtv-Q",
        "colab_type": "code",
        "colab": {}
      },
      "source": [
        "class GMM(Clustering):\n",
        "    def __init__(self, k):\n",
        "        self.k = k\n",
        "        \n",
        "        \n",
        "    def Fit(self, x, iterations = 10):\n",
        "        \n",
        "        self.centroids = x[np.random.choice(np.arange(x.shape[0]), size = self.k)]\n",
        "        self.covs  = [np.eye(x.shape[1])] * self.k\n",
        "        \n",
        "        for i in range(iterations):      \n",
        "            y_hat = self.Predict(x)\n",
        "            old_centroid = self.centroids.copy()\n",
        "\n",
        "            for k in range(self.k):\n",
        "                self.centroids[k, :] = np.mean(x[y_hat == k], axis = 0)\n",
        "                self.covs[k] = np.cov(x[y_hat == k].T )\n",
        "                \n",
        "            if np.sum((old_centroid == self.centroids)) < 1e-15:\n",
        "                    break     \n",
        "                \n",
        "    def Predict(self, x):\n",
        "        probs = self.Probabilities(x)\n",
        "        y_hat = np.argmax(probs, axis = 0)\n",
        "        return y_hat\n",
        "    \n",
        "    def Probabilities(self, x):\n",
        "        probs = []\n",
        "        for k in range(self.k):\n",
        "            probs.append(mvn.pdf(x,mean = self.centroids[k], cov = self.covs[k], allow_singular = True))\n",
        "        probs = np.vstack(probs)\n",
        "        return probs\n",
        "    \n",
        "    def Loss(self, x):\n",
        "        probs = self.Probabilities(x)\n",
        "        y_hat = self.Predict(x)\n",
        "        unique, counts = np.unique(y_hat, return_counts = True)\n",
        "        pis = counts.reshape(-1,1)/ (y_hat.shape[0] + 1e-99)\n",
        "        \n",
        "        return -np.sum(np.log(np.sum(probs*pis, axis = 0)))\n",
        "                    "
      ],
      "execution_count": 0,
      "outputs": []
    },
    {
      "cell_type": "code",
      "metadata": {
        "id": "n5IYyKfhtv-X",
        "colab_type": "code",
        "colab": {}
      },
      "source": [
        "class DBSCAN():\n",
        "    def __init__(self, core_thresh, neighbor_thresh):\n",
        "            \n",
        "            self.core_thresh = core_thresh\n",
        "            self.neighbor_thresh = neighbor_thresh\n",
        "            \n",
        "            \n",
        "    def Fit(self, x):        \n",
        "    \n",
        "    \n",
        "#         def DistAll(x):\n",
        "#         diff = x.reshape(1, x.shape[0], x.shape[1]) - x.reshape(x.shape[0],1, x.shape[1])\n",
        "#         dist = np.sum(diff **2, axis = 2)\n",
        "#         return dist\n",
        "#         dists = DistAll(x)\n",
        "\n",
        "        dists = np.sum((x.reshape(1, -1, x.shape[1]) - x.reshape(-1, 1, x.shape[1]))**2, axis= 2)\n",
        "\n",
        "        neighbors = dists < self.neighbor_thresh\n",
        "        neighbor_count = np.sum(neighbors, axis = 0)\n",
        "\n",
        "        core = neighbor_count > self.core_thresh\n",
        "        avail = core.copy() # copy cores\n",
        "        clusters = []\n",
        "        \n",
        "        while avail.any():\n",
        "            ind = np.random.choice(np.where(avail)[0]) # we put [0] to not get tuple\n",
        "\n",
        "            cluster = neighbors[ind]\n",
        "            old_cluster = np.zeros(cluster.shape)\n",
        "\n",
        "            while np.any(cluster != old_cluster):\n",
        "                old_cluster = cluster.copy()\n",
        "                cluster = np.any(cluster | neighbors[cluster & core], axis = 0)\n",
        "                \n",
        "            avail = avail & ~cluster # ~cluster means not cluster\n",
        "            clusters.append(cluster)\n",
        "\n",
        "        y_hat = np.vstack(clusters)\n",
        "\n",
        "        noise = ~np.any(y_hat, axis = 0)\n",
        "\n",
        "        y_hat = np.vstack([ noise, y_hat])\n",
        "        \n",
        "        self.core_points = x[core]\n",
        "        self.core_class = np.argmax(y_hat, axis = 0)[core]\n",
        "    \n",
        "    def Predict(self,x):\n",
        "        dists = np.sum((x.reshape(1, -1, x.shape[1]) - self.core_points.reshape(-1, 1, x.shape[1]))**2, axis = 2)\n",
        "        y_hat = self.core_class[np.argmin(dists, axis = 0)]\n",
        "        neighbors = dists < self.neighbor_thresh\n",
        "        y_hat[~np.any(neighbors)]=0\n",
        "        return y_hat\n",
        "        \n",
        "#         neighbors_class = neighbors * self.core_class\n",
        "#         unique, counts = np.unique(neighbors_class, return_counts=True, axis = 1)\n",
        "#         return counts\n",
        "        "
      ],
      "execution_count": 0,
      "outputs": []
    },
    {
      "cell_type": "code",
      "metadata": {
        "id": "2ICf6VHKPMYs",
        "colab_type": "code",
        "colab": {}
      },
      "source": [
        ""
      ],
      "execution_count": 0,
      "outputs": []
    },
    {
      "cell_type": "code",
      "metadata": {
        "id": "huh2Piyri2FD",
        "colab_type": "code",
        "colab": {
          "base_uri": "https://localhost:8080/",
          "height": 298
        },
        "outputId": "cecc8ade-8881-4dcc-e0c2-25b67809374e"
      },
      "source": [
        "for i in range(2, 3):\n",
        "    kmeans = KMeans(i)\n",
        "    centroids = kmeans.Fit(x)\n",
        "    y_hat = kmeans.Predict(x)\n",
        "    kmeans.SilhouettePlot(x)\n",
        "        "
      ],
      "execution_count": 64,
      "outputs": [
        {
          "output_type": "stream",
          "text": [
            "\rIterations: 0\rIterations: 1\rIterations: 2\rIterations: 3\rIterations: 4\rIterations: 5\rIterations: 6\rIterations: 7\rIterations: 8\rIterations: 9"
          ],
          "name": "stdout"
        },
        {
          "output_type": "display_data",
          "data": {
            "image/png": "[encoded data removed]",
            "text/plain": [
              "<Figure size 432x288 with 1 Axes>"
            ]
          },
          "metadata": {
            "tags": []
          }
        }
      ]
    },
    {
      "cell_type": "code",
      "metadata": {
        "id": "KHh62lrzi2B-",
        "colab_type": "code",
        "colab": {
          "base_uri": "https://localhost:8080/",
          "height": 298
        },
        "outputId": "678ec1a5-8dfe-400f-abd4-12d8129ac53e"
      },
      "source": [
        "dbis = []\n",
        "ks = list(range(2,10))\n",
        "tries = 15\n",
        "for k in ks:\n",
        "    dbi = []\n",
        "    for i in range(tries):\n",
        "        \n",
        "        kmeans = KMeans(k)\n",
        "        kmeans.Fit(x,10)\n",
        "        db_temp = kmeans.DBI(x)\n",
        "        if not np.isnan(db_temp):\n",
        "            dbi.append(db_temp)\n",
        "    dbis.append(np.min(dbi))\n",
        " \n",
        "dbi_min = np.argmin(dbis)\n",
        "plt.plot(ks, dbis)\n",
        "plt.scatter(dbi_min+2, dbis[dbi_min], c='r',marker='*', s = 200 )\n",
        "plt.xticks(ks);\n",
        "plt.title('Davies-Bouldin Index')\n"
      ],
      "execution_count": 80,
      "outputs": [
        {
          "output_type": "stream",
          "text": [
            "Iterations: 9"
          ],
          "name": "stdout"
        },
        {
          "output_type": "execute_result",
          "data": {
            "text/plain": [
              "Text(0.5, 1.0, 'Davies-Bouldin Index')"
            ]
          },
          "metadata": {
            "tags": []
          },
          "execution_count": 80
        },
        {
          "output_type": "display_data",
          "data": {
            "image/png": "[encoded data removed]",
            "text/plain": [
              "<Figure size 432x288 with 1 Axes>"
            ]
          },
          "metadata": {
            "tags": []
          }
        }
      ]
    },
    {
      "cell_type": "code",
      "metadata": {
        "id": "dH28RDBni1-6",
        "colab_type": "code",
        "colab": {
          "base_uri": "https://localhost:8080/",
          "height": 298
        },
        "outputId": "6656b597-49fd-402c-c359-b0b83560b569"
      },
      "source": [
        "chis = []\n",
        "ks = list(range(2,8))\n",
        "tries = 15\n",
        "\n",
        "for k in ks:\n",
        "    chi = []\n",
        "    for i in range(tries):\n",
        "        kmeans = KMeans(k)\n",
        "        kmeans.Fit(x, 5)\n",
        "        chi_temp = kmeans.CHI(x)\n",
        "        if not np.isnan(chi_temp):\n",
        "            chi.append(chi_temp)\n",
        "    chis.append(np.max(chi))\n",
        "\n",
        "chi_max = np.argmax(chis)\n",
        "\n",
        "plt.plot(ks, chis)\n",
        "\n",
        "plt.scatter(chi_max+2, chis[chi_max], c='r', marker ='*', s = 200)\n",
        "plt.xticks(ks);\n",
        "plt.title('Calinski-Haribasz Index')\n"
      ],
      "execution_count": 81,
      "outputs": [
        {
          "output_type": "stream",
          "text": [
            "Iterations: 4"
          ],
          "name": "stdout"
        },
        {
          "output_type": "execute_result",
          "data": {
            "text/plain": [
              "Text(0.5, 1.0, 'Calinski-Haribasz Index')"
            ]
          },
          "metadata": {
            "tags": []
          },
          "execution_count": 81
        },
        {
          "output_type": "display_data",
          "data": {
            "image/png": "[encoded data removed]",
            "text/plain": [
              "<Figure size 432x288 with 1 Axes>"
            ]
          },
          "metadata": {
            "tags": []
          }
        }
      ]
    },
    {
      "cell_type": "code",
      "metadata": {
        "id": "dKPxmNwHi178",
        "colab_type": "code",
        "colab": {
          "base_uri": "https://localhost:8080/",
          "height": 281
        },
        "outputId": "26a5d460-bfa1-4bc9-df94-ec04be8e4ae4"
      },
      "source": [
        "gmm = GMM(2)\n",
        "gmm.Fit(x)\n",
        "y_hat = gmm.Predict(x)\n",
        "plt.scatter(x[:,0], x[:,1], c=y_hat, cmap ='jet')\n",
        "gmm.SilhouettePlot(x)"
      ],
      "execution_count": 67,
      "outputs": [
        {
          "output_type": "display_data",
          "data": {
            "image/png": "[encoded data removed]",
            "text/plain": [
              "<Figure size 432x288 with 1 Axes>"
            ]
          },
          "metadata": {
            "tags": []
          }
        }
      ]
    },
    {
      "cell_type": "code",
      "metadata": {
        "id": "DMF9-j6Qtkr-",
        "colab_type": "code",
        "colab": {
          "base_uri": "https://localhost:8080/",
          "height": 281
        },
        "outputId": "03111525-2359-45a7-b64e-52a6e4179119"
      },
      "source": [
        "gmm = GMM(3)\n",
        "gmm.Fit(x)\n",
        "y_hat = gmm.Predict(x)\n",
        "plt.scatter(x[:,0], x[:,1], c=y_hat, cmap ='jet')\n",
        "gmm.SilhouettePlot(x)"
      ],
      "execution_count": 82,
      "outputs": [
        {
          "output_type": "display_data",
          "data": {
            "image/png": "[encoded data removed]",
            "text/plain": [
              "<Figure size 432x288 with 1 Axes>"
            ]
          },
          "metadata": {
            "tags": []
          }
        }
      ]
    },
    {
      "cell_type": "code",
      "metadata": {
        "id": "RobP5frTi15v",
        "colab_type": "code",
        "colab": {
          "base_uri": "https://localhost:8080/",
          "height": 298
        },
        "outputId": "9b8d5882-cfc5-4d8f-ebb6-8a73c9d73eaa"
      },
      "source": [
        "dbis = []\n",
        "ks = list(range(2,8))\n",
        "tries = 10\n",
        "for k in ks:\n",
        "    dbi = []\n",
        "    for i in range(tries):\n",
        "        \n",
        "        gmm = GMM(k)\n",
        "        gmm.Fit(x,10)\n",
        "        db_temp = gmm.DBI(x)\n",
        "        if not np.isnan(db_temp):\n",
        "            dbi.append(db_temp)\n",
        "    dbis.append(np.min(dbi))\n",
        " \n",
        "dbi_min = np.argmin(dbis)\n",
        "plt.plot(ks, dbis)\n",
        "plt.scatter(dbi_min+2, dbis[dbi_min], c='r',marker='*', s = 200 )\n",
        "plt.xticks(ks);\n",
        "plt.title('Davies-Bouldin Index')\n"
      ],
      "execution_count": 68,
      "outputs": [
        {
          "output_type": "execute_result",
          "data": {
            "text/plain": [
              "Text(0.5, 1.0, 'Davies-Bouldin Index')"
            ]
          },
          "metadata": {
            "tags": []
          },
          "execution_count": 68
        },
        {
          "output_type": "display_data",
          "data": {
            "image/png": "[encoded data removed]",
            "text/plain": [
              "<Figure size 432x288 with 1 Axes>"
            ]
          },
          "metadata": {
            "tags": []
          }
        }
      ]
    },
    {
      "cell_type": "code",
      "metadata": {
        "id": "bQ4cZaK7i13N",
        "colab_type": "code",
        "colab": {
          "base_uri": "https://localhost:8080/",
          "height": 298
        },
        "outputId": "0a149a11-fd6a-40d8-e4e6-6a64fc5494a6"
      },
      "source": [
        "chis = []\n",
        "ks = list(range(2,8))\n",
        "tries = 12\n",
        "\n",
        "for k in ks:\n",
        "    chi = []\n",
        "    for i in range(tries):\n",
        "        gmm = GMM(k)\n",
        "        gmm.Fit(x, 10)\n",
        "        chi_temp = gmm.CHI(x)\n",
        "        if not np.isnan(chi_temp):\n",
        "            chi.append(chi_temp)\n",
        "        else: pass    \n",
        "    chis.append(np.max(chi))\n",
        "\n",
        "chi_max = np.argmax(chis)\n",
        "\n",
        "plt.plot(ks, chis)\n",
        "\n",
        "plt.scatter(chi_max+2, chis[chi_max], c='r', marker ='*', s = 200)\n",
        "plt.xticks(ks);\n",
        "plt.title('Calinski-Haribasz Index')\n"
      ],
      "execution_count": 78,
      "outputs": [
        {
          "output_type": "execute_result",
          "data": {
            "text/plain": [
              "Text(0.5, 1.0, 'Calinski-Haribasz Index')"
            ]
          },
          "metadata": {
            "tags": []
          },
          "execution_count": 78
        },
        {
          "output_type": "display_data",
          "data": {
            "image/png": "[encoded data removed]",
            "text/plain": [
              "<Figure size 432x288 with 1 Axes>"
            ]
          },
          "metadata": {
            "tags": []
          }
        }
      ]
    },
    {
      "cell_type": "code",
      "metadata": {
        "id": "MznAhrzAi11U",
        "colab_type": "code",
        "colab": {}
      },
      "source": [
        ""
      ],
      "execution_count": 0,
      "outputs": []
    },
    {
      "cell_type": "code",
      "metadata": {
        "id": "6PkRreioi1zd",
        "colab_type": "code",
        "colab": {}
      },
      "source": [
        "#Train Data"
      ],
      "execution_count": 0,
      "outputs": []
    },
    {
      "cell_type": "code",
      "metadata": {
        "id": "o4Dx1j8jtwAQ",
        "colab_type": "code",
        "colab": {
          "base_uri": "https://localhost:8080/",
          "height": 34
        },
        "outputId": "4d9a6f2b-4eba-4ec4-f248-c6a90ff205a3"
      },
      "source": [
        "kmeans = SoftKMeans(2, beta = 20)\n",
        "centroids = kmeans.Fit(x, 10)\n",
        "y_hat = kmeans.Predict(x)\n",
        "#kmeans.SilhouettePlot(x)\n",
        "#plt.scatter(x[:,0],x[:,1], c = kmeans.Predict(x), cmap = 'jet')\n",
        "#plt.scatter(centroids[:,0], centroids[:,1], c='k')"
      ],
      "execution_count": 87,
      "outputs": [
        {
          "output_type": "stream",
          "text": [
            "\rIterations: 0 "
          ],
          "name": "stdout"
        }
      ]
    },
    {
      "cell_type": "code",
      "metadata": {
        "id": "YSTes-_qtwAn",
        "colab_type": "code",
        "colab": {
          "base_uri": "https://localhost:8080/",
          "height": 187
        },
        "outputId": "ef2c8cb7-f98b-46ec-f26f-d9fb25a36fe6"
      },
      "source": [
        "from sklearn.model_selection import train_test_split\n",
        "from sklearn.metrics import accuracy_score\n",
        "from sklearn.metrics import classification_report\n",
        "from sklearn.metrics import roc_auc_score\n",
        "\n",
        "#target_names = ['class 0', 'class 1', 'class 2']\n",
        "print(classification_report(y, y_hat))#, target_names=target_names))\n",
        "\n",
        "print(roc_auc_score(y, y_hat))"
      ],
      "execution_count": 88,
      "outputs": [
        {
          "output_type": "stream",
          "text": [
            "              precision    recall  f1-score   support\n",
            "\n",
            "         0.0       0.93      1.00      0.96     36486\n",
            "         1.0       0.00      0.00      0.00      2791\n",
            "\n",
            "    accuracy                           0.93     39277\n",
            "   macro avg       0.46      0.50      0.48     39277\n",
            "weighted avg       0.86      0.93      0.89     39277\n",
            "\n",
            "0.4999040727950447\n"
          ],
          "name": "stdout"
        }
      ]
    },
    {
      "cell_type": "code",
      "metadata": {
        "id": "AcfleSQ5twAz",
        "colab_type": "code",
        "colab": {}
      },
      "source": [
        "# import scikitplot as skplt\n",
        "# import matplotlib.pyplot as plt\n",
        "# skplt.metrics.plot_roc_curve(y, y_hat)\n",
        "# plt.show()"
      ],
      "execution_count": 0,
      "outputs": []
    },
    {
      "cell_type": "code",
      "metadata": {
        "id": "24v9kNtntwBF",
        "colab_type": "code",
        "colab": {}
      },
      "source": [
        "p = y_hat"
      ],
      "execution_count": 0,
      "outputs": []
    },
    {
      "cell_type": "code",
      "metadata": {
        "id": "IpZWYY3LtwBK",
        "colab_type": "code",
        "colab": {
          "base_uri": "https://localhost:8080/",
          "height": 187
        },
        "outputId": "f81b499b-e6d0-4cf8-8178-383010d79183"
      },
      "source": [
        "TP = sum((p == y) ==1)\n",
        "print('True Positives: {} '.format(TP))\n",
        "\n",
        "TN = sum((p == y) == 0)\n",
        "print('True Negatives: {} '.format(TN))\n",
        "\n",
        "FP = sum((p == 1) & (y == 0))  #FP = sum((p_hat == 1) * (y == 0))\n",
        "print('False Positives: {} '.format(FP))\n",
        "\n",
        "FN = sum((p == 0) & (y == 1))\n",
        "print('False Negatives: {} '.format(FN))\n",
        "\n",
        "Accuracy = (TP + TN)/(TP + TN + FP + FN)\n",
        "print('Accuracy: {} '.format(Accuracy))\n",
        "\n",
        "\n",
        "Precision = (TP)/(TP + FP)\n",
        "print('Precision: {} '.format(Precision))\n",
        "\n",
        "\n",
        "Recall = (TP)/(TP + FN)\n",
        "print('Recall: {} '.format(Recall))\n",
        "\n",
        "\n",
        "F1_score = (2*Precision*Recall)/(Precision + Recall)\n",
        "print('F1_score: {} '.format(F1_score))\n",
        "\n",
        "\n",
        "\n",
        "TPR =(TP)/(TP + FN)\n",
        "print('True Positive Rate: {} '.format(TPR))\n",
        "\n",
        "\n",
        "FPR = (FP)/(FP + TN)\n",
        "print('False Positive Rate: {} '.format(FPR))\n",
        "\n",
        "\n"
      ],
      "execution_count": 90,
      "outputs": [
        {
          "output_type": "stream",
          "text": [
            "True Positives: 36479 \n",
            "True Negatives: 2798 \n",
            "False Positives: 7 \n",
            "False Negatives: 2791 \n",
            "Accuracy: 0.9334997029114677 \n",
            "Precision: 0.9998081455900893 \n",
            "Recall: 0.9289279348102878 \n",
            "F1_score: 0.9630656317651407 \n",
            "True Positive Rate: 0.9289279348102878 \n",
            "False Positive Rate: 0.0024955436720142605 \n"
          ],
          "name": "stdout"
        }
      ]
    },
    {
      "cell_type": "code",
      "metadata": {
        "id": "O70F9bL_twBP",
        "colab_type": "code",
        "colab": {
          "base_uri": "https://localhost:8080/",
          "height": 34
        },
        "outputId": "21491d39-72ab-4236-edb5-5ca23e866284"
      },
      "source": [
        "def accuracy(y, y_hat):\n",
        "    return np.mean(y == y_hat)\n",
        "print(f\"Accuracy: {accuracy(y, y_hat):0.3f}\")"
      ],
      "execution_count": 91,
      "outputs": [
        {
          "output_type": "stream",
          "text": [
            "Accuracy: 0.929\n"
          ],
          "name": "stdout"
        }
      ]
    },
    {
      "cell_type": "code",
      "metadata": {
        "id": "0mKaDiHktwBX",
        "colab_type": "code",
        "colab": {
          "base_uri": "https://localhost:8080/",
          "height": 54
        },
        "outputId": "ecd571e0-e429-4de1-a76c-c300cfd7a8ab"
      },
      "source": [
        "#Test Data\n",
        "kmeans = SoftKMeans(2, beta = 20)\n",
        "centroids = kmeans.Fit(x, 10)\n",
        "y_hat = kmeans.Predict(x_test)\n"
      ],
      "execution_count": 92,
      "outputs": [
        {
          "output_type": "stream",
          "text": [
            "\rIterations: 0 "
          ],
          "name": "stdout"
        },
        {
          "output_type": "stream",
          "text": [
            "/usr/local/lib/python3.6/dist-packages/ipykernel_launcher.py:124: RuntimeWarning: invalid value encountered in true_divide\n"
          ],
          "name": "stderr"
        }
      ]
    },
    {
      "cell_type": "code",
      "metadata": {
        "id": "Jk0e8kGI0V89",
        "colab_type": "code",
        "colab": {}
      },
      "source": [
        "p = y_hat\n",
        "y = y_test"
      ],
      "execution_count": 0,
      "outputs": []
    },
    {
      "cell_type": "code",
      "metadata": {
        "id": "uE-5eEVrtwBl",
        "colab_type": "code",
        "colab": {
          "base_uri": "https://localhost:8080/",
          "height": 187
        },
        "outputId": "612be87a-9257-4611-e5d7-03a4b8d492e4"
      },
      "source": [
        "TP = sum((p == y) ==1)\n",
        "print('True Positives: {} '.format(TP))\n",
        "\n",
        "TN = sum((p == y) == 0)\n",
        "print('True Negatives: {} '.format(TN))\n",
        "\n",
        "FP = sum((p == 1) & (y == 0))  #FP = sum((p_hat == 1) * (y == 0))\n",
        "print('False Positives: {} '.format(FP))\n",
        "\n",
        "FN = sum((p == 0) & (y == 1))\n",
        "print('False Negatives: {} '.format(FN))\n",
        "\n",
        "Accuracy = (TP + TN)/(TP + TN + FP + FN)\n",
        "print('Accuracy: {} '.format(Accuracy))\n",
        "\n",
        "\n",
        "Precision = (TP)/(TP + FP)\n",
        "print('Precision: {} '.format(Precision))\n",
        "\n",
        "\n",
        "Recall = (TP)/(TP + FN)\n",
        "print('Recall: {} '.format(Recall))\n",
        "\n",
        "\n",
        "F1_score = (2*Precision*Recall)/(Precision + Recall)\n",
        "print('F1_score: {} '.format(F1_score))\n",
        "\n",
        "\n",
        "\n",
        "TPR =(TP)/(TP + FN)\n",
        "print('True Positive Rate: {} '.format(TPR))\n",
        "\n",
        "\n",
        "FPR = (FP)/(FP + TN)\n",
        "print('False Positive Rate: {} '.format(FPR))\n",
        "\n",
        "\n"
      ],
      "execution_count": 95,
      "outputs": [
        {
          "output_type": "stream",
          "text": [
            "True Positives: 9100 \n",
            "True Negatives: 720 \n",
            "False Positives: 0 \n",
            "False Negatives: 720 \n",
            "Accuracy: 0.9316888045540797 \n",
            "Precision: 1.0 \n",
            "Recall: 0.9266802443991853 \n",
            "F1_score: 0.9619450317124736 \n",
            "True Positive Rate: 0.9266802443991853 \n",
            "False Positive Rate: 0.0 \n"
          ],
          "name": "stdout"
        }
      ]
    },
    {
      "cell_type": "code",
      "metadata": {
        "colab_type": "code",
        "id": "F3kQxfNVoPN2",
        "colab": {}
      },
      "source": [
        ""
      ],
      "execution_count": 0,
      "outputs": []
    },
    {
      "cell_type": "code",
      "metadata": {
        "colab_type": "code",
        "id": "xlusPXUYpAus",
        "colab": {}
      },
      "source": [
        ""
      ],
      "execution_count": 0,
      "outputs": []
    },
    {
      "cell_type": "code",
      "metadata": {
        "colab_type": "code",
        "id": "2l6rJjYwpAki",
        "colab": {}
      },
      "source": [
        ""
      ],
      "execution_count": 0,
      "outputs": []
    },
    {
      "cell_type": "code",
      "metadata": {
        "colab_type": "code",
        "id": "7wFx2BUvpARk",
        "colab": {}
      },
      "source": [
        ""
      ],
      "execution_count": 0,
      "outputs": []
    },
    {
      "cell_type": "code",
      "metadata": {
        "id": "8fSNCdc-gkXt",
        "colab_type": "code",
        "colab": {}
      },
      "source": [
        ""
      ],
      "execution_count": 0,
      "outputs": []
    }
  ]
}