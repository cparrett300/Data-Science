{
 "cells": [
  {
   "cell_type": "code",
   "execution_count": 1,
   "metadata": {
    "colab": {},
    "colab_type": "code",
    "id": "pvXl99PVVZxM"
   },
   "outputs": [],
   "source": [
    "import torch\n",
    "import pandas as pd \n",
    "import numpy as np\n",
    "import matplotlib.pyplot as plt"
   ]
  },
  {
   "cell_type": "code",
   "execution_count": 15,
   "metadata": {
    "colab": {},
    "colab_type": "code",
    "id": "TfHTTJyzVdrJ"
   },
   "outputs": [],
   "source": [
    "df = pd.read_csv('dinosaurs.csv', header = None)\n",
    "df.columns = ['name']"
   ]
  },
  {
   "cell_type": "code",
   "execution_count": 4,
   "metadata": {
    "colab": {},
    "colab_type": "code",
    "id": "4zqS1rKeV8-5"
   },
   "outputs": [],
   "source": [
    "df.head(5);"
   ]
  },
  {
   "cell_type": "code",
   "execution_count": 6,
   "metadata": {},
   "outputs": [
    {
     "data": {
      "text/plain": [
       "97"
      ]
     },
     "execution_count": 6,
     "metadata": {},
     "output_type": "execute_result"
    }
   ],
   "source": [
    "#function ord('character') changes character into number abd chr(number) gives character out of numbers\n",
    "ord('a')"
   ]
  },
  {
   "cell_type": "code",
   "execution_count": 7,
   "metadata": {},
   "outputs": [
    {
     "data": {
      "text/plain": [
       "'a'"
      ]
     },
     "execution_count": 7,
     "metadata": {},
     "output_type": "execute_result"
    }
   ],
   "source": [
    "chr(97)"
   ]
  },
  {
   "cell_type": "code",
   "execution_count": 8,
   "metadata": {},
   "outputs": [],
   "source": []
  },
  {
   "cell_type": "code",
   "execution_count": 63,
   "metadata": {},
   "outputs": [],
   "source": [
    "a = ord('a')\n",
    "def Encode(name):\n",
    "    name =''.join(['{', name.lower(), '|'])    #'{{}|'.format(name.lower())\n",
    "    \n",
    "    out = []\n",
    "    for char in name:\n",
    "        char_encoded = torch.zeros((1, 28))\n",
    "        char_encoded[0, ord(char) - a] = 1\n",
    "        out.append(char_encoded)\n",
    "        \n",
    "    return torch.cat(out, dim = 0)\n",
    "\n",
    "def Decode(tensor):\n",
    "    ords = torch.argmax(tensor, dim = 1)\n",
    "    out = []\n",
    "    for i in ords:\n",
    "        out.append(chr(i+a))\n",
    "    return ''.join(out)    \n",
    "    "
   ]
  },
  {
   "cell_type": "code",
   "execution_count": 64,
   "metadata": {},
   "outputs": [],
   "source": [
    "df_encoded = df.name.apply(Encode)"
   ]
  },
  {
   "cell_type": "code",
   "execution_count": 65,
   "metadata": {},
   "outputs": [
    {
     "data": {
      "text/plain": [
       "0       [[tensor(0.), tensor(0.), tensor(0.), tensor(0...\n",
       "1       [[tensor(0.), tensor(0.), tensor(0.), tensor(0...\n",
       "2       [[tensor(0.), tensor(0.), tensor(0.), tensor(0...\n",
       "3       [[tensor(0.), tensor(0.), tensor(0.), tensor(0...\n",
       "4       [[tensor(0.), tensor(0.), tensor(0.), tensor(0...\n",
       "                              ...                        \n",
       "1320    [[tensor(0.), tensor(0.), tensor(0.), tensor(0...\n",
       "1321    [[tensor(0.), tensor(0.), tensor(0.), tensor(0...\n",
       "1322    [[tensor(0.), tensor(0.), tensor(0.), tensor(0...\n",
       "1323    [[tensor(0.), tensor(0.), tensor(0.), tensor(0...\n",
       "1324    [[tensor(0.), tensor(0.), tensor(0.), tensor(0...\n",
       "Name: name, Length: 1325, dtype: object"
      ]
     },
     "execution_count": 65,
     "metadata": {},
     "output_type": "execute_result"
    }
   ],
   "source": [
    "df_encoded"
   ]
  },
  {
   "cell_type": "code",
   "execution_count": null,
   "metadata": {},
   "outputs": [],
   "source": []
  },
  {
   "cell_type": "code",
   "execution_count": 66,
   "metadata": {},
   "outputs": [],
   "source": [
    "class Layer(torch.nn.Module):\n",
    "    def __init__(self, size_in, size_out, activation_func = torch.sigmoid):\n",
    "        super(Layer, self).__init__()\n",
    "        \n",
    "        self.w = torch.nn.Parameter(\n",
    "            torch.randn(size_in, size_out, requires_grad = True))\n",
    "    \n",
    "        self.b =torch.nn.Parameter(\n",
    "            torch.randn(1, size_out, requires_grad = True))\n",
    "        \n",
    "        self.activation_func = activation_func\n",
    "        \n",
    "    def Forward(self, x):\n",
    "        #print(self.activation_func)\n",
    "        return self.activation_func(x @ self.w + self.b)\n",
    "        "
   ]
  },
  {
   "cell_type": "code",
   "execution_count": 97,
   "metadata": {},
   "outputs": [],
   "source": [
    "class RNN(torch.nn.Module):\n",
    "    def __init__(self, size_in, size_out, size_mem):\n",
    "        super(RNN, self).__init__()\n",
    "       \n",
    "        self.layer_0 = Layer(size_in + size_mem, size_mem)  # we r gonna get rid of mem layer so size out for layer 0 is size mem        \n",
    "        self.layer_out = Layer(size_mem, size_out, lambda x: x)\n",
    "        self.size_mem = size_mem\n",
    "        \n",
    "    \n",
    "    def Forward(self, x):\n",
    "        mem = torch.zeros(1, self.size_mem)\n",
    "        out = []\n",
    "        for i in range(x.shape[0]):\n",
    "            z = torch.cat([x[[i], :], mem], dim =1)\n",
    "            mem = self.layer_0.Forward(z)\n",
    "            out.append(self.layer_out.Forward(mem))  \n",
    "        out = torch.cat(out, dim = 0)\n",
    "        return out\n",
    "        \n",
    "        \n",
    "    def Generate(self, start, iterations):\n",
    "        mem = torch.randn((1, self.size_mem))\n",
    "        out = [start]\n",
    "        for i in range(iterations):\n",
    "            z = torch.cat([out[i], mem], dim =1)\n",
    "            mem = self.layer_0.Forward(z)\n",
    "            out.append(self.layer_out.Forward(mem))\n",
    "            if Decode(out[-1]) == '|': break\n",
    "            \n",
    "        out = torch.cat(out, dim = 0)\n",
    "        return out\n",
    "        \n",
    "        \n",
    "            "
   ]
  },
  {
   "cell_type": "code",
   "execution_count": null,
   "metadata": {},
   "outputs": [],
   "source": []
  },
  {
   "cell_type": "code",
   "execution_count": null,
   "metadata": {},
   "outputs": [],
   "source": []
  },
  {
   "cell_type": "code",
   "execution_count": null,
   "metadata": {},
   "outputs": [],
   "source": []
  },
  {
   "cell_type": "code",
   "execution_count": 98,
   "metadata": {},
   "outputs": [],
   "source": [
    "#our sizea-in is 28 as we have 26 letter and two stop characters in our encode so total 28 and we want the same to be our size_out\n",
    "rnn = RNN(28, 28, 14)\n",
    "opt = torch.optim.Adam(rnn.parameters(), lr = 1e-2)\n",
    "loss_func = torch.nn.CrossEntropyLoss()  # our loss function is CategeryCross Entropy as we are predicting category leters\n"
   ]
  },
  {
   "cell_type": "code",
   "execution_count": 99,
   "metadata": {},
   "outputs": [
    {
     "data": {
      "text/plain": [
       "933    [[tensor(0.), tensor(0.), tensor(0.), tensor(0...\n",
       "Name: name, dtype: object"
      ]
     },
     "execution_count": 99,
     "metadata": {},
     "output_type": "execute_result"
    }
   ],
   "source": [
    "df_encoded.sample()"
   ]
  },
  {
   "cell_type": "code",
   "execution_count": 100,
   "metadata": {},
   "outputs": [
    {
     "data": {
      "text/plain": [
       "[<matplotlib.lines.Line2D at 0x21813936a88>]"
      ]
     },
     "execution_count": 100,
     "metadata": {},
     "output_type": "execute_result"
    },
    {
     "data": {
      "image/png": "[encoded data removed]",
      "text/plain": [
       "<Figure size 432x288 with 1 Axes>"
      ]
     },
     "metadata": {
      "needs_background": "light"
     },
     "output_type": "display_data"
    }
   ],
   "source": [
    "losses=[]\n",
    "iterations = 1000\n",
    "\n",
    "for i in range(iterations):\n",
    "    y = df_encoded.sample().values[0]\n",
    "    y_hat = rnn.Forward(y)\n",
    "    loss = loss_func(y_hat[:-1], torch.argmax(y[1:], dim = 1))\n",
    "    \n",
    "    loss.backward()\n",
    "    opt.step()\n",
    "    opt.zero_grad()\n",
    "    losses.append(loss.detach())\n",
    "plt.plot(losses)\n",
    "    \n",
    "    "
   ]
  },
  {
   "cell_type": "code",
   "execution_count": 101,
   "metadata": {},
   "outputs": [
    {
     "data": {
      "text/plain": [
       "[<matplotlib.lines.Line2D at 0x21813991248>,\n",
       " <matplotlib.lines.Line2D at 0x21813a03d48>,\n",
       " <matplotlib.lines.Line2D at 0x21813a03f48>,\n",
       " <matplotlib.lines.Line2D at 0x21813a0a188>,\n",
       " <matplotlib.lines.Line2D at 0x21813a0a388>,\n",
       " <matplotlib.lines.Line2D at 0x21813a0a608>,\n",
       " <matplotlib.lines.Line2D at 0x21813a0a7c8>,\n",
       " <matplotlib.lines.Line2D at 0x21813a0a9c8>,\n",
       " <matplotlib.lines.Line2D at 0x21813a0abc8>,\n",
       " <matplotlib.lines.Line2D at 0x21813a0a588>,\n",
       " <matplotlib.lines.Line2D at 0x21813a0af88>,\n",
       " <matplotlib.lines.Line2D at 0x21813a0d1c8>,\n",
       " <matplotlib.lines.Line2D at 0x21813a0d3c8>,\n",
       " <matplotlib.lines.Line2D at 0x21813a0d5c8>,\n",
       " <matplotlib.lines.Line2D at 0x21813a0d7c8>,\n",
       " <matplotlib.lines.Line2D at 0x21813a0d9c8>,\n",
       " <matplotlib.lines.Line2D at 0x21813a0dbc8>,\n",
       " <matplotlib.lines.Line2D at 0x21813a0ddc8>,\n",
       " <matplotlib.lines.Line2D at 0x21813a10048>,\n",
       " <matplotlib.lines.Line2D at 0x21813a102c8>,\n",
       " <matplotlib.lines.Line2D at 0x21813a10548>,\n",
       " <matplotlib.lines.Line2D at 0x21813a107c8>,\n",
       " <matplotlib.lines.Line2D at 0x21813a10a48>,\n",
       " <matplotlib.lines.Line2D at 0x21813a10cc8>,\n",
       " <matplotlib.lines.Line2D at 0x21813a10f48>,\n",
       " <matplotlib.lines.Line2D at 0x21813a13208>,\n",
       " <matplotlib.lines.Line2D at 0x21813a13488>,\n",
       " <matplotlib.lines.Line2D at 0x21813a13708>]"
      ]
     },
     "execution_count": 101,
     "metadata": {},
     "output_type": "execute_result"
    },
    {
     "data": {
      "image/png": "[encoded data removed]",
      "text/plain": [
       "<Figure size 432x288 with 1 Axes>"
      ]
     },
     "metadata": {
      "needs_background": "light"
     },
     "output_type": "display_data"
    }
   ],
   "source": [
    "plt.plot(y_hat.detach())\n",
    "plt.plot(y)\n"
   ]
  },
  {
   "cell_type": "code",
   "execution_count": 212,
   "metadata": {},
   "outputs": [
    {
     "data": {
      "text/plain": [
       "'{uuuusosusususus'"
      ]
     },
     "execution_count": 212,
     "metadata": {},
     "output_type": "execute_result"
    }
   ],
   "source": [
    "Decode(rnn.Generate(Encode('')[[0], :], 15))\n"
   ]
  },
  {
   "cell_type": "code",
   "execution_count": null,
   "metadata": {},
   "outputs": [],
   "source": []
  },
  {
   "cell_type": "code",
   "execution_count": null,
   "metadata": {},
   "outputs": [],
   "source": []
  },
  {
   "cell_type": "code",
   "execution_count": null,
   "metadata": {},
   "outputs": [],
   "source": []
  },
  {
   "cell_type": "code",
   "execution_count": null,
   "metadata": {},
   "outputs": [],
   "source": []
  },
  {
   "cell_type": "code",
   "execution_count": null,
   "metadata": {},
   "outputs": [],
   "source": []
  },
  {
   "cell_type": "code",
   "execution_count": null,
   "metadata": {},
   "outputs": [],
   "source": []
  },
  {
   "cell_type": "code",
   "execution_count": null,
   "metadata": {},
   "outputs": [],
   "source": []
  },
  {
   "cell_type": "code",
   "execution_count": null,
   "metadata": {},
   "outputs": [],
   "source": []
  },
  {
   "cell_type": "code",
   "execution_count": null,
   "metadata": {},
   "outputs": [],
   "source": []
  },
  {
   "cell_type": "code",
   "execution_count": null,
   "metadata": {},
   "outputs": [],
   "source": []
  },
  {
   "cell_type": "code",
   "execution_count": null,
   "metadata": {},
   "outputs": [],
   "source": []
  },
  {
   "cell_type": "code",
   "execution_count": null,
   "metadata": {},
   "outputs": [],
   "source": []
  },
  {
   "cell_type": "code",
   "execution_count": null,
   "metadata": {},
   "outputs": [],
   "source": []
  },
  {
   "cell_type": "code",
   "execution_count": null,
   "metadata": {},
   "outputs": [],
   "source": []
  },
  {
   "cell_type": "code",
   "execution_count": null,
   "metadata": {},
   "outputs": [],
   "source": []
  },
  {
   "cell_type": "code",
   "execution_count": null,
   "metadata": {},
   "outputs": [],
   "source": []
  },
  {
   "cell_type": "code",
   "execution_count": null,
   "metadata": {},
   "outputs": [],
   "source": []
  },
  {
   "cell_type": "code",
   "execution_count": null,
   "metadata": {},
   "outputs": [],
   "source": []
  },
  {
   "cell_type": "code",
   "execution_count": null,
   "metadata": {},
   "outputs": [],
   "source": []
  },
  {
   "cell_type": "code",
   "execution_count": null,
   "metadata": {},
   "outputs": [],
   "source": []
  },
  {
   "cell_type": "code",
   "execution_count": null,
   "metadata": {},
   "outputs": [],
   "source": []
  },
  {
   "cell_type": "code",
   "execution_count": 4,
   "metadata": {
    "colab": {},
    "colab_type": "code",
    "id": "H_YQFwpuV-l2"
   },
   "outputs": [],
   "source": [
    "df = pd.DataFrame(data)"
   ]
  },
  {
   "cell_type": "code",
   "execution_count": 5,
   "metadata": {
    "colab": {},
    "colab_type": "code",
    "id": "EGWNvi0ZWR5I"
   },
   "outputs": [],
   "source": [
    "df;"
   ]
  },
  {
   "cell_type": "code",
   "execution_count": 6,
   "metadata": {
    "colab": {
     "base_uri": "https://localhost:8080/",
     "height": 34
    },
    "colab_type": "code",
    "id": "XRMV2raVWzSb",
    "outputId": "da4258bd-8936-4147-b68c-18785b4ede43"
   },
   "outputs": [
    {
     "data": {
      "text/plain": [
       "(1325, 1)"
      ]
     },
     "execution_count": 6,
     "metadata": {},
     "output_type": "execute_result"
    }
   ],
   "source": [
    "df.shape"
   ]
  },
  {
   "cell_type": "code",
   "execution_count": 7,
   "metadata": {
    "colab": {},
    "colab_type": "code",
    "id": "04hs6eMaWUHx"
   },
   "outputs": [],
   "source": [
    "one_hot_dino = pd.get_dummies(df, prefix=\"\", prefix_sep=\"\")\n"
   ]
  },
  {
   "cell_type": "code",
   "execution_count": 8,
   "metadata": {
    "colab": {
     "base_uri": "https://localhost:8080/",
     "height": 439
    },
    "colab_type": "code",
    "id": "WqNKJBSlWjpR",
    "outputId": "3bac35f6-bc8f-4842-828d-c53785f5cd1f"
   },
   "outputs": [
    {
     "data": {
      "text/html": [
       "<div>\n",
       "<style scoped>\n",
       "    .dataframe tbody tr th:only-of-type {\n",
       "        vertical-align: middle;\n",
       "    }\n",
       "\n",
       "    .dataframe tbody tr th {\n",
       "        vertical-align: top;\n",
       "    }\n",
       "\n",
       "    .dataframe thead th {\n",
       "        text-align: right;\n",
       "    }\n",
       "</style>\n",
       "<table border=\"1\" class=\"dataframe\">\n",
       "  <thead>\n",
       "    <tr style=\"text-align: right;\">\n",
       "      <th></th>\n",
       "      <th>aachenosaurus</th>\n",
       "      <th>aardonyx</th>\n",
       "      <th>abelisaurus</th>\n",
       "      <th>abrictosaurus</th>\n",
       "      <th>abrosaurus</th>\n",
       "      <th>abydosaurus</th>\n",
       "      <th>acanthopholis</th>\n",
       "      <th>achelousaurus</th>\n",
       "      <th>acheroraptor</th>\n",
       "      <th>achillesaurus</th>\n",
       "      <th>...</th>\n",
       "      <th>zhongyuansaurus</th>\n",
       "      <th>zhuchengceratops</th>\n",
       "      <th>zhuchengosaurus</th>\n",
       "      <th>zhuchengtyrannus</th>\n",
       "      <th>ziapelta</th>\n",
       "      <th>zigongosaurus</th>\n",
       "      <th>zizhongosaurus</th>\n",
       "      <th>zuniceratops</th>\n",
       "      <th>zuolong</th>\n",
       "      <th>zupaysaurus</th>\n",
       "    </tr>\n",
       "  </thead>\n",
       "  <tbody>\n",
       "    <tr>\n",
       "      <td>0</td>\n",
       "      <td>1</td>\n",
       "      <td>0</td>\n",
       "      <td>0</td>\n",
       "      <td>0</td>\n",
       "      <td>0</td>\n",
       "      <td>0</td>\n",
       "      <td>0</td>\n",
       "      <td>0</td>\n",
       "      <td>0</td>\n",
       "      <td>0</td>\n",
       "      <td>...</td>\n",
       "      <td>0</td>\n",
       "      <td>0</td>\n",
       "      <td>0</td>\n",
       "      <td>0</td>\n",
       "      <td>0</td>\n",
       "      <td>0</td>\n",
       "      <td>0</td>\n",
       "      <td>0</td>\n",
       "      <td>0</td>\n",
       "      <td>0</td>\n",
       "    </tr>\n",
       "    <tr>\n",
       "      <td>1</td>\n",
       "      <td>0</td>\n",
       "      <td>1</td>\n",
       "      <td>0</td>\n",
       "      <td>0</td>\n",
       "      <td>0</td>\n",
       "      <td>0</td>\n",
       "      <td>0</td>\n",
       "      <td>0</td>\n",
       "      <td>0</td>\n",
       "      <td>0</td>\n",
       "      <td>...</td>\n",
       "      <td>0</td>\n",
       "      <td>0</td>\n",
       "      <td>0</td>\n",
       "      <td>0</td>\n",
       "      <td>0</td>\n",
       "      <td>0</td>\n",
       "      <td>0</td>\n",
       "      <td>0</td>\n",
       "      <td>0</td>\n",
       "      <td>0</td>\n",
       "    </tr>\n",
       "    <tr>\n",
       "      <td>2</td>\n",
       "      <td>0</td>\n",
       "      <td>0</td>\n",
       "      <td>1</td>\n",
       "      <td>0</td>\n",
       "      <td>0</td>\n",
       "      <td>0</td>\n",
       "      <td>0</td>\n",
       "      <td>0</td>\n",
       "      <td>0</td>\n",
       "      <td>0</td>\n",
       "      <td>...</td>\n",
       "      <td>0</td>\n",
       "      <td>0</td>\n",
       "      <td>0</td>\n",
       "      <td>0</td>\n",
       "      <td>0</td>\n",
       "      <td>0</td>\n",
       "      <td>0</td>\n",
       "      <td>0</td>\n",
       "      <td>0</td>\n",
       "      <td>0</td>\n",
       "    </tr>\n",
       "    <tr>\n",
       "      <td>3</td>\n",
       "      <td>0</td>\n",
       "      <td>0</td>\n",
       "      <td>0</td>\n",
       "      <td>1</td>\n",
       "      <td>0</td>\n",
       "      <td>0</td>\n",
       "      <td>0</td>\n",
       "      <td>0</td>\n",
       "      <td>0</td>\n",
       "      <td>0</td>\n",
       "      <td>...</td>\n",
       "      <td>0</td>\n",
       "      <td>0</td>\n",
       "      <td>0</td>\n",
       "      <td>0</td>\n",
       "      <td>0</td>\n",
       "      <td>0</td>\n",
       "      <td>0</td>\n",
       "      <td>0</td>\n",
       "      <td>0</td>\n",
       "      <td>0</td>\n",
       "    </tr>\n",
       "    <tr>\n",
       "      <td>4</td>\n",
       "      <td>0</td>\n",
       "      <td>0</td>\n",
       "      <td>0</td>\n",
       "      <td>0</td>\n",
       "      <td>1</td>\n",
       "      <td>0</td>\n",
       "      <td>0</td>\n",
       "      <td>0</td>\n",
       "      <td>0</td>\n",
       "      <td>0</td>\n",
       "      <td>...</td>\n",
       "      <td>0</td>\n",
       "      <td>0</td>\n",
       "      <td>0</td>\n",
       "      <td>0</td>\n",
       "      <td>0</td>\n",
       "      <td>0</td>\n",
       "      <td>0</td>\n",
       "      <td>0</td>\n",
       "      <td>0</td>\n",
       "      <td>0</td>\n",
       "    </tr>\n",
       "    <tr>\n",
       "      <td>...</td>\n",
       "      <td>...</td>\n",
       "      <td>...</td>\n",
       "      <td>...</td>\n",
       "      <td>...</td>\n",
       "      <td>...</td>\n",
       "      <td>...</td>\n",
       "      <td>...</td>\n",
       "      <td>...</td>\n",
       "      <td>...</td>\n",
       "      <td>...</td>\n",
       "      <td>...</td>\n",
       "      <td>...</td>\n",
       "      <td>...</td>\n",
       "      <td>...</td>\n",
       "      <td>...</td>\n",
       "      <td>...</td>\n",
       "      <td>...</td>\n",
       "      <td>...</td>\n",
       "      <td>...</td>\n",
       "      <td>...</td>\n",
       "      <td>...</td>\n",
       "    </tr>\n",
       "    <tr>\n",
       "      <td>1320</td>\n",
       "      <td>0</td>\n",
       "      <td>0</td>\n",
       "      <td>0</td>\n",
       "      <td>0</td>\n",
       "      <td>0</td>\n",
       "      <td>0</td>\n",
       "      <td>0</td>\n",
       "      <td>0</td>\n",
       "      <td>0</td>\n",
       "      <td>0</td>\n",
       "      <td>...</td>\n",
       "      <td>0</td>\n",
       "      <td>0</td>\n",
       "      <td>0</td>\n",
       "      <td>0</td>\n",
       "      <td>0</td>\n",
       "      <td>1</td>\n",
       "      <td>0</td>\n",
       "      <td>0</td>\n",
       "      <td>0</td>\n",
       "      <td>0</td>\n",
       "    </tr>\n",
       "    <tr>\n",
       "      <td>1321</td>\n",
       "      <td>0</td>\n",
       "      <td>0</td>\n",
       "      <td>0</td>\n",
       "      <td>0</td>\n",
       "      <td>0</td>\n",
       "      <td>0</td>\n",
       "      <td>0</td>\n",
       "      <td>0</td>\n",
       "      <td>0</td>\n",
       "      <td>0</td>\n",
       "      <td>...</td>\n",
       "      <td>0</td>\n",
       "      <td>0</td>\n",
       "      <td>0</td>\n",
       "      <td>0</td>\n",
       "      <td>0</td>\n",
       "      <td>0</td>\n",
       "      <td>1</td>\n",
       "      <td>0</td>\n",
       "      <td>0</td>\n",
       "      <td>0</td>\n",
       "    </tr>\n",
       "    <tr>\n",
       "      <td>1322</td>\n",
       "      <td>0</td>\n",
       "      <td>0</td>\n",
       "      <td>0</td>\n",
       "      <td>0</td>\n",
       "      <td>0</td>\n",
       "      <td>0</td>\n",
       "      <td>0</td>\n",
       "      <td>0</td>\n",
       "      <td>0</td>\n",
       "      <td>0</td>\n",
       "      <td>...</td>\n",
       "      <td>0</td>\n",
       "      <td>0</td>\n",
       "      <td>0</td>\n",
       "      <td>0</td>\n",
       "      <td>0</td>\n",
       "      <td>0</td>\n",
       "      <td>0</td>\n",
       "      <td>1</td>\n",
       "      <td>0</td>\n",
       "      <td>0</td>\n",
       "    </tr>\n",
       "    <tr>\n",
       "      <td>1323</td>\n",
       "      <td>0</td>\n",
       "      <td>0</td>\n",
       "      <td>0</td>\n",
       "      <td>0</td>\n",
       "      <td>0</td>\n",
       "      <td>0</td>\n",
       "      <td>0</td>\n",
       "      <td>0</td>\n",
       "      <td>0</td>\n",
       "      <td>0</td>\n",
       "      <td>...</td>\n",
       "      <td>0</td>\n",
       "      <td>0</td>\n",
       "      <td>0</td>\n",
       "      <td>0</td>\n",
       "      <td>0</td>\n",
       "      <td>0</td>\n",
       "      <td>0</td>\n",
       "      <td>0</td>\n",
       "      <td>1</td>\n",
       "      <td>0</td>\n",
       "    </tr>\n",
       "    <tr>\n",
       "      <td>1324</td>\n",
       "      <td>0</td>\n",
       "      <td>0</td>\n",
       "      <td>0</td>\n",
       "      <td>0</td>\n",
       "      <td>0</td>\n",
       "      <td>0</td>\n",
       "      <td>0</td>\n",
       "      <td>0</td>\n",
       "      <td>0</td>\n",
       "      <td>0</td>\n",
       "      <td>...</td>\n",
       "      <td>0</td>\n",
       "      <td>0</td>\n",
       "      <td>0</td>\n",
       "      <td>0</td>\n",
       "      <td>0</td>\n",
       "      <td>0</td>\n",
       "      <td>0</td>\n",
       "      <td>0</td>\n",
       "      <td>0</td>\n",
       "      <td>1</td>\n",
       "    </tr>\n",
       "  </tbody>\n",
       "</table>\n",
       "<p>1325 rows × 1318 columns</p>\n",
       "</div>"
      ],
      "text/plain": [
       "      aachenosaurus  aardonyx  abelisaurus  abrictosaurus  abrosaurus  \\\n",
       "0                 1         0            0              0           0   \n",
       "1                 0         1            0              0           0   \n",
       "2                 0         0            1              0           0   \n",
       "3                 0         0            0              1           0   \n",
       "4                 0         0            0              0           1   \n",
       "...             ...       ...          ...            ...         ...   \n",
       "1320              0         0            0              0           0   \n",
       "1321              0         0            0              0           0   \n",
       "1322              0         0            0              0           0   \n",
       "1323              0         0            0              0           0   \n",
       "1324              0         0            0              0           0   \n",
       "\n",
       "      abydosaurus  acanthopholis  achelousaurus  acheroraptor  achillesaurus  \\\n",
       "0               0              0              0             0              0   \n",
       "1               0              0              0             0              0   \n",
       "2               0              0              0             0              0   \n",
       "3               0              0              0             0              0   \n",
       "4               0              0              0             0              0   \n",
       "...           ...            ...            ...           ...            ...   \n",
       "1320            0              0              0             0              0   \n",
       "1321            0              0              0             0              0   \n",
       "1322            0              0              0             0              0   \n",
       "1323            0              0              0             0              0   \n",
       "1324            0              0              0             0              0   \n",
       "\n",
       "      ...  zhongyuansaurus  zhuchengceratops  zhuchengosaurus  \\\n",
       "0     ...                0                 0                0   \n",
       "1     ...                0                 0                0   \n",
       "2     ...                0                 0                0   \n",
       "3     ...                0                 0                0   \n",
       "4     ...                0                 0                0   \n",
       "...   ...              ...               ...              ...   \n",
       "1320  ...                0                 0                0   \n",
       "1321  ...                0                 0                0   \n",
       "1322  ...                0                 0                0   \n",
       "1323  ...                0                 0                0   \n",
       "1324  ...                0                 0                0   \n",
       "\n",
       "      zhuchengtyrannus  ziapelta  zigongosaurus  zizhongosaurus  zuniceratops  \\\n",
       "0                    0         0              0               0             0   \n",
       "1                    0         0              0               0             0   \n",
       "2                    0         0              0               0             0   \n",
       "3                    0         0              0               0             0   \n",
       "4                    0         0              0               0             0   \n",
       "...                ...       ...            ...             ...           ...   \n",
       "1320                 0         0              1               0             0   \n",
       "1321                 0         0              0               1             0   \n",
       "1322                 0         0              0               0             1   \n",
       "1323                 0         0              0               0             0   \n",
       "1324                 0         0              0               0             0   \n",
       "\n",
       "      zuolong  zupaysaurus  \n",
       "0           0            0  \n",
       "1           0            0  \n",
       "2           0            0  \n",
       "3           0            0  \n",
       "4           0            0  \n",
       "...       ...          ...  \n",
       "1320        0            0  \n",
       "1321        0            0  \n",
       "1322        0            0  \n",
       "1323        1            0  \n",
       "1324        0            1  \n",
       "\n",
       "[1325 rows x 1318 columns]"
      ]
     },
     "execution_count": 8,
     "metadata": {},
     "output_type": "execute_result"
    }
   ],
   "source": [
    "one_hot_dino"
   ]
  },
  {
   "cell_type": "code",
   "execution_count": 9,
   "metadata": {
    "colab": {
     "base_uri": "https://localhost:8080/",
     "height": 136
    },
    "colab_type": "code",
    "id": "7E1g9IbYWkd_",
    "outputId": "245fb0a0-ca28-442e-982f-7e32fd6e8445"
   },
   "outputs": [
    {
     "data": {
      "text/plain": [
       "['calamospondylus',\n",
       " 'gigantosaurus',\n",
       " 'palaeosaurus',\n",
       " 'procerosaurus',\n",
       " 'protorosaurus',\n",
       " 'titanosaurus',\n",
       " 'ultrasaurus']"
      ]
     },
     "execution_count": 9,
     "metadata": {},
     "output_type": "execute_result"
    }
   ],
   "source": [
    "\n",
    "[col for col in one_hot_dino.columns if np.sum(one_hot_dino[col], axis = 0) >1]"
   ]
  },
  {
   "cell_type": "code",
   "execution_count": 10,
   "metadata": {
    "colab": {},
    "colab_type": "code",
    "id": "Y3F4cCtzZVM8"
   },
   "outputs": [],
   "source": [
    "flat_dino = np.sum(one_hot_dino, axis = 0)"
   ]
  },
  {
   "cell_type": "code",
   "execution_count": null,
   "metadata": {},
   "outputs": [],
   "source": []
  },
  {
   "cell_type": "code",
   "execution_count": null,
   "metadata": {},
   "outputs": [],
   "source": []
  },
  {
   "cell_type": "code",
   "execution_count": null,
   "metadata": {},
   "outputs": [],
   "source": []
  }
 ],
 "metadata": {
  "colab": {
   "collapsed_sections": [],
   "name": "one_hot_dino.ipynb",
   "provenance": []
  },
  "kernelspec": {
   "display_name": "Python 3",
   "language": "python",
   "name": "python3"
  },
  "language_info": {
   "codemirror_mode": {
    "name": "ipython",
    "version": 3
   },
   "file_extension": ".py",
   "mimetype": "text/x-python",
   "name": "python",
   "nbconvert_exporter": "python",
   "pygments_lexer": "ipython3",
   "version": "3.7.4"
  }
 },
 "nbformat": 4,
 "nbformat_minor": 1
}
