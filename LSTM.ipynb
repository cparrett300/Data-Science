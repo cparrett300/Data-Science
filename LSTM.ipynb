{
 "cells": [
  {
   "cell_type": "code",
   "execution_count": 2,
   "metadata": {},
   "outputs": [],
   "source": [
    "import numpy as np \n",
    "import torch\n",
    "import matplotlib.pyplot as plt"
   ]
  },
  {
   "cell_type": "code",
   "execution_count": null,
   "metadata": {},
   "outputs": [],
   "source": []
  },
  {
   "cell_type": "code",
   "execution_count": null,
   "metadata": {},
   "outputs": [],
   "source": []
  },
  {
   "cell_type": "code",
   "execution_count": 3,
   "metadata": {},
   "outputs": [],
   "source": []
  },
  {
   "cell_type": "code",
   "execution_count": 4,
   "metadata": {},
   "outputs": [],
   "source": [
    "class Layer(torch.nn.Module):\n",
    "    def __init__(self, size_in, size_out, activation_func = torch.sigmoid):\n",
    "        super(Layer, self).__init__()\n",
    "        \n",
    "        self.w = torch.nn.Parameter(\n",
    "            torch.randn(size_in, size_out, requires_grad = True))\n",
    "    \n",
    "        self.b =torch.nn.Parameter(\n",
    "            torch.randn(1, size_out, requires_grad = True))\n",
    "        \n",
    "        self.activation_func = activation_func\n",
    "        \n",
    "    def Forward(self, x):\n",
    "        #print(self.activation_func)\n",
    "        return self.activation_func(x @ self.w + self.b)\n",
    "        "
   ]
  },
  {
   "cell_type": "code",
   "execution_count": null,
   "metadata": {},
   "outputs": [],
   "source": [
    "class LSTM(torch.nn.Module):\n",
    "    def __init__(self, size_in, size_out, size_mem_lt, size_mem_st ):\n",
    "        super(LSTM, self).__init__()\n",
    "       \n",
    "        self.forget_gate     = Layer(size_in + size_mem_st, size_mem_lt, activation_func = torch.sigmoid)   \n",
    "        self.memory_gate     = Layer(size_in + size_mem_st, size_mem_lt, activation_func = torch.sigmoid)\n",
    "        self.memory_layer    = Layer(size_in + size_mem_st, size_mem_lt, activation_func = torch.tanh   )\n",
    "        self.lt_recall_layer = Layer(size_mem_lt,size_mem_st, activation_func = torch.tanh              )\n",
    "        self.st_recall_layer = Layer(size_in + size_mem_st, size_mem_st, activation_func = torch.sigmoid)\n",
    "        self.Layer_out       = Layer(size_mem_st, size_out)\n",
    "        self.size_mem_lt     = size_mem_lt\n",
    "        self.size_mem_st     = size_mem_st\n",
    "        \n",
    "    \n",
    "    def Forward(self, x):\n",
    "        mem_lt = torch.zeros(1, self.size_mem_lt)\n",
    "        mem_st = torch.zeros(1, self.size_mem_st)\n",
    "        out = []\n",
    "        \n",
    "        \n",
    "        for i in range(x.shape[0]):\n",
    "            z = torch.cat([x[[i], :], mem_st], dim =1)\n",
    "            forget_gate     = self.forget_gate.Forward(z) \n",
    "            memory_gate     = self.memory_gate.Forward(z)\n",
    "            memory_layer    = self.memory_layer.Forward(z)\n",
    "            lt_recall_layer = self.lt_recall_layer.Forward(z)\n",
    "            st_recall_layer = self.st_recall_layer.Forward(z)\n",
    "\n",
    "            mem = self.layer_0.Forward(z)\n",
    "            out.append(self.layer_out.Forward(mem))  \n",
    "        out = torch.cat(out, dim = 0)\n",
    "        return out\n",
    "        \n",
    "        \n",
    "    def Generate(self, start, iterations):\n",
    "        mem = torch.randn((1, self.size_mem))\n",
    "        out = [start]\n",
    "        for i in range(x.shape[0]):\n",
    "            z = torch.cat([out[i], mem], dim =1)\n",
    "            mem = self.layer_0.Forward(z)\n",
    "            out.append(self.layer_out.Forward(mem))  \n",
    "        out = torch.cat(out, dim = 0)\n",
    "        return out\n",
    "        \n",
    "        \n",
    "            "
   ]
  },
  {
   "cell_type": "code",
   "execution_count": null,
   "metadata": {},
   "outputs": [],
   "source": []
  },
  {
   "cell_type": "code",
   "execution_count": null,
   "metadata": {},
   "outputs": [],
   "source": []
  },
  {
   "cell_type": "code",
   "execution_count": null,
   "metadata": {},
   "outputs": [],
   "source": []
  }
 ],
 "metadata": {
  "kernelspec": {
   "display_name": "Python 3",
   "language": "python",
   "name": "python3"
  },
  "language_info": {
   "codemirror_mode": {
    "name": "ipython",
    "version": 3
   },
   "file_extension": ".py",
   "mimetype": "text/x-python",
   "name": "python",
   "nbconvert_exporter": "python",
   "pygments_lexer": "ipython3",
   "version": "3.7.4"
  }
 },
 "nbformat": 4,
 "nbformat_minor": 2
}
